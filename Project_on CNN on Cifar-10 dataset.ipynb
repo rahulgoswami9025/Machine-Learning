{
  "nbformat": 4,
  "nbformat_minor": 0,
  "metadata": {
    "colab": {
      "name": "Project- Computer vision.ipynb",
      "version": "0.3.2",
      "provenance": [],
      "collapsed_sections": []
    },
    "kernelspec": {
      "name": "python3",
      "display_name": "Python 3"
    },
    "accelerator": "GPU"
  },
  "cells": [
    {
      "cell_type": "code",
      "metadata": {
        "id": "VDfUIYAkMEaK",
        "colab_type": "code",
        "outputId": "803a2cb3-9058-4d32-a96b-0c3eb028b2f8",
        "colab": {
          "base_uri": "https://localhost:8080/",
          "height": 217
        }
      },
      "source": [
        "# Code to check for server GPU ram\n",
        "\n",
        "!ln -sf /opt/bin/nvidia-smi /usr/bin/nvidia-smi\n",
        "!pip install gputil\n",
        "!pip install psutil\n",
        "!pip install humanize\n",
        "import psutil\n",
        "import humanize\n",
        "import os\n",
        "import GPUtil as GPU\n",
        "GPUs = GPU.getGPUs()\n",
        "# XXX: only one GPU on Colab and isn’t guaranteed\n",
        "gpu = GPUs[0]\n",
        "def printm():\n",
        " process = psutil.Process(os.getpid())\n",
        " print(\"Gen RAM Free: \" + humanize.naturalsize( psutil.virtual_memory().available ), \" | Proc size: \" + humanize.naturalsize( process.memory_info().rss))\n",
        " print(\"GPU RAM Free: {0:.0f}MB | Used: {1:.0f}MB | Util {2:3.0f}% | Total {3:.0f}MB\".format(gpu.memoryFree, gpu.memoryUsed, gpu.memoryUtil*100, gpu.memoryTotal))\n",
        "printm()"
      ],
      "execution_count": 0,
      "outputs": [
        {
          "output_type": "stream",
          "text": [
            "Collecting gputil\n",
            "  Downloading https://files.pythonhosted.org/packages/ed/0e/5c61eedde9f6c87713e89d794f01e378cfd9565847d4576fa627d758c554/GPUtil-1.4.0.tar.gz\n",
            "Building wheels for collected packages: gputil\n",
            "  Building wheel for gputil (setup.py) ... \u001b[?25l\u001b[?25hdone\n",
            "  Stored in directory: /root/.cache/pip/wheels/3d/77/07/80562de4bb0786e5ea186911a2c831fdd0018bda69beab71fd\n",
            "Successfully built gputil\n",
            "Installing collected packages: gputil\n",
            "Successfully installed gputil-1.4.0\n",
            "Requirement already satisfied: psutil in /usr/local/lib/python3.6/dist-packages (5.4.8)\n",
            "Requirement already satisfied: humanize in /usr/local/lib/python3.6/dist-packages (0.5.1)\n",
            "Gen RAM Free: 12.9 GB  | Proc size: 120.6 MB\n",
            "GPU RAM Free: 15079MB | Used: 0MB | Util   0% | Total 15079MB\n"
          ],
          "name": "stdout"
        }
      ]
    },
    {
      "cell_type": "code",
      "metadata": {
        "id": "FYxLkdbNLwFo",
        "colab_type": "code",
        "outputId": "aa647a35-448f-41e6-dfd6-ea759ae26bbe",
        "colab": {
          "base_uri": "https://localhost:8080/",
          "height": 33
        }
      },
      "source": [
        "# Importing libraries\n",
        "\n",
        "import pandas as pd\n",
        "import numpy as np\n",
        "import matplotlib.pyplot as plt\n",
        "import keras\n",
        "from keras.datasets import cifar10\n",
        "from keras.models import Sequential\n",
        "from keras.layers import Dense,Dropout,Flatten,MaxPooling2D\n",
        "from keras.preprocessing.image import ImageDataGenerator\n",
        "from keras.layers.convolutional import Conv2D\n",
        "from keras.constraints import MaxNorm\n",
        "from keras.utils import np_utils\n",
        "from keras.optimizers import SGD\n",
        "from keras.constraints import MaxNorm"
      ],
      "execution_count": 0,
      "outputs": [
        {
          "output_type": "stream",
          "text": [
            "Using TensorFlow backend.\n"
          ],
          "name": "stderr"
        }
      ]
    },
    {
      "cell_type": "markdown",
      "metadata": {
        "id": "76A1aI1Cy5i-",
        "colab_type": "text"
      },
      "source": [
        "### 1.2 Importing the cifar10 dataset"
      ]
    },
    {
      "cell_type": "code",
      "metadata": {
        "id": "KylLonrSKu0y",
        "colab_type": "code",
        "outputId": "41c03fc8-9864-432a-dd71-7593a3e5149e",
        "colab": {
          "base_uri": "https://localhost:8080/",
          "height": 117
        }
      },
      "source": [
        "\n",
        "# loading the dataset\n",
        "\n",
        "(X_train,y_train), (X_test,y_test) = cifar10.load_data()\n",
        "\n",
        "print('Size of training features :',X_train.shape)\n",
        "print('Size of test features :', y_test.shape)\n",
        "print('Number of images in X_train', X_train.shape[0])\n",
        "print('Number of images in X_test', X_test.shape[0])"
      ],
      "execution_count": 0,
      "outputs": [
        {
          "output_type": "stream",
          "text": [
            "Downloading data from https://www.cs.toronto.edu/~kriz/cifar-10-python.tar.gz\n",
            "170500096/170498071 [==============================] - 27s 0us/step\n",
            "Size of training features : (50000, 32, 32, 3)\n",
            "Size of test features : (10000, 1)\n",
            "Number of images in X_train 50000\n",
            "Number of images in X_test 10000\n"
          ],
          "name": "stdout"
        }
      ]
    },
    {
      "cell_type": "code",
      "metadata": {
        "id": "X8Vepo7RLvN4",
        "colab_type": "code",
        "colab": {}
      },
      "source": [
        "# Setting a random seed\n",
        "\n",
        "seed = 7\n",
        "np.random.seed(seed)"
      ],
      "execution_count": 0,
      "outputs": []
    },
    {
      "cell_type": "markdown",
      "metadata": {
        "id": "BomGPmbJQdJi",
        "colab_type": "text"
      },
      "source": [
        "### 1.3 Displaying few of the images in the dataset by creating a loop"
      ]
    },
    {
      "cell_type": "code",
      "metadata": {
        "id": "okxeKG9MJ_25",
        "colab_type": "code",
        "outputId": "27c5201d-400d-479a-9584-eef5944d4d5e",
        "colab": {
          "base_uri": "https://localhost:8080/",
          "height": 269
        }
      },
      "source": [
        "# Displaying few images\n",
        "\n",
        "# creating a loop to display images\n",
        "\n",
        "for i in range(0,9):\n",
        "  plt.subplot(330 + 1+ i)\n",
        "  plt.imshow(X_train[i]);\n",
        "  \n"
      ],
      "execution_count": 0,
      "outputs": [
        {
          "output_type": "display_data",
          "data": {
            "image/png": "[encoded data removed]",
            "text/plain": [
              "<Figure size 432x288 with 9 Axes>"
            ]
          },
          "metadata": {
            "tags": []
          }
        }
      ]
    },
    {
      "cell_type": "markdown",
      "metadata": {
        "id": "Qy0gLrQSQsPY",
        "colab_type": "text"
      },
      "source": [
        "### 2.1  Data Preprcessing"
      ]
    },
    {
      "cell_type": "code",
      "metadata": {
        "id": "ySHRGBQbOeZ5",
        "colab_type": "code",
        "cellView": "code",
        "outputId": "f57a1a75-aca0-4480-c089-fb15168999cd",
        "colab": {
          "base_uri": "https://localhost:8080/",
          "height": 50
        }
      },
      "source": [
        "# a) Before normalizing the data we check if the shape of the data can be fitted into the Keras api\n",
        "\n",
        "print('Shape of training data :',X_train.shape)\n",
        "print('Shape of test data :', y_test.shape)"
      ],
      "execution_count": 0,
      "outputs": [
        {
          "output_type": "stream",
          "text": [
            "Shape of training data : (50000, 32, 32, 3)\n",
            "Shape of test data : (10000, 1)\n"
          ],
          "name": "stdout"
        }
      ]
    },
    {
      "cell_type": "markdown",
      "metadata": {
        "id": "jxPrWSTvN7xn",
        "colab_type": "text"
      },
      "source": [
        "**By checking the shape of the training data , we can see that its feasible to be worked with the keras api and thus no reshape operation is required**"
      ]
    },
    {
      "cell_type": "code",
      "metadata": {
        "id": "FNZXCNFRSIhs",
        "colab_type": "code",
        "colab": {}
      },
      "source": [
        "# Normalizing the data\n",
        "\n",
        "X_train  = X_train.astype('float32')\n",
        "X_test = X_test.astype('float32')\n",
        "\n",
        "X_train/=255\n",
        "X_test/=255"
      ],
      "execution_count": 0,
      "outputs": []
    },
    {
      "cell_type": "code",
      "metadata": {
        "id": "IwZlRRnNUi14",
        "colab_type": "code",
        "colab": {}
      },
      "source": [
        "# One hot encoding the class labels using keras np_utils\n",
        "\n",
        "y_train = np_utils.to_categorical(y_train)\n",
        "y_test = np_utils.to_categorical(y_test)"
      ],
      "execution_count": 0,
      "outputs": []
    },
    {
      "cell_type": "markdown",
      "metadata": {
        "id": "h34yTDJRJUHv",
        "colab_type": "text"
      },
      "source": [
        "### 2.2. Creating the Convolution Network"
      ]
    },
    {
      "cell_type": "markdown",
      "metadata": {
        "id": "FfGZr-bxecVn",
        "colab_type": "text"
      },
      "source": [
        "**Baseline network structure can be summarized as follows:**\n",
        "\n",
        "1. Convolutional input layer, 32 feature maps with a size of 3×3, a rectifier activation function and a weight constraint of max norm set to 3.\n",
        "2. Dropout set to 20%.\n",
        "3. Convolutional layer, 32 feature maps with a size of 3×3, a rectifier activation function and a weight constraint of max norm set to 3.\n",
        "4. Max Pool layer with size 2×2.\n",
        "5. Flatten layer.\n",
        "6. Fully connected layer with 512 units and a rectifier activation function.\n",
        "7.Dropout set to 50%.\n",
        "8.Fully connected output layer with 10 units and a softmax activation function\n"
      ]
    },
    {
      "cell_type": "markdown",
      "metadata": {
        "id": "TNM_qbYhfSCz",
        "colab_type": "text"
      },
      "source": [
        "**We will be using a logarithmic loss function with the stochastic gradient descent optimization algorithm configured with a large momentum and weight decay start with a learning rate of 0.01.**"
      ]
    },
    {
      "cell_type": "code",
      "metadata": {
        "id": "gjrGyPdyVxG5",
        "colab_type": "code",
        "outputId": "a670174d-5a5f-479c-ba7b-c238973a9922",
        "colab": {
          "base_uri": "https://localhost:8080/",
          "height": 890
        }
      },
      "source": [
        "model = Sequential()\n",
        "model.add(Conv2D(filters = 32, kernel_size = (3,3), activation = 'relu',kernel_constraint = MaxNorm(3)))\n",
        "model.add(Dropout(rate = 0.2))\n",
        "model.add(Conv2D(filters = 32, kernel_size = (3,3), activation = 'relu', kernel_constraint= MaxNorm(3)))\n",
        "model.add(MaxPooling2D(pool_size = (2,2)))\n",
        "model.add(Flatten())\n",
        "model.add(Dense(units = 512, activation = 'relu', kernel_constraint = MaxNorm(3)))\n",
        "model.add(Dropout(rate = 0.2))\n",
        "model.add(Dense(units = 10, activation = 'softmax'))\n",
        "\n",
        "# We will be using SGD as the optimiser\n",
        "\n",
        "epochs = 25\n",
        "lrate = 0.01\n",
        "decay = lrate/epochs\n",
        "\n",
        "sgd = SGD(lr = lrate, momentum = 0.9, decay = decay)\n",
        "\n",
        "# compiling the model\n",
        "model.compile(optimizer = sgd, loss = 'categorical_crossentropy', metrics = ['accuracy'])\n",
        "\n",
        "# Fitting the model\n",
        "history = model.fit(X_train,y_train, validation_data=(X_test,y_test), epochs=epochs, batch_size = 32)\n"
      ],
      "execution_count": 0,
      "outputs": [
        {
          "output_type": "stream",
          "text": [
            "Train on 50000 samples, validate on 10000 samples\n",
            "Epoch 1/25\n",
            "50000/50000 [==============================] - 12s 230us/step - loss: 1.6298 - acc: 0.4117 - val_loss: 1.3280 - val_acc: 0.5191\n",
            "Epoch 2/25\n",
            "50000/50000 [==============================] - 10s 199us/step - loss: 1.2283 - acc: 0.5644 - val_loss: 1.1418 - val_acc: 0.5901\n",
            "Epoch 3/25\n",
            "50000/50000 [==============================] - 10s 199us/step - loss: 1.0450 - acc: 0.6311 - val_loss: 1.0648 - val_acc: 0.6271\n",
            "Epoch 4/25\n",
            "50000/50000 [==============================] - 10s 198us/step - loss: 0.8991 - acc: 0.6817 - val_loss: 1.0333 - val_acc: 0.6399\n",
            "Epoch 5/25\n",
            "50000/50000 [==============================] - 10s 199us/step - loss: 0.7736 - acc: 0.7282 - val_loss: 1.0001 - val_acc: 0.6589\n",
            "Epoch 6/25\n",
            "50000/50000 [==============================] - 11s 221us/step - loss: 0.6638 - acc: 0.7670 - val_loss: 1.0271 - val_acc: 0.6584\n",
            "Epoch 7/25\n",
            "50000/50000 [==============================] - 10s 200us/step - loss: 0.5629 - acc: 0.8032 - val_loss: 1.0421 - val_acc: 0.6638\n",
            "Epoch 8/25\n",
            "50000/50000 [==============================] - 10s 197us/step - loss: 0.4733 - acc: 0.8353 - val_loss: 1.0632 - val_acc: 0.6696\n",
            "Epoch 9/25\n",
            "50000/50000 [==============================] - 10s 198us/step - loss: 0.4007 - acc: 0.8599 - val_loss: 1.0766 - val_acc: 0.6681\n",
            "Epoch 10/25\n",
            "50000/50000 [==============================] - 10s 198us/step - loss: 0.3402 - acc: 0.8838 - val_loss: 1.1126 - val_acc: 0.6748\n",
            "Epoch 11/25\n",
            "50000/50000 [==============================] - 10s 197us/step - loss: 0.2834 - acc: 0.9030 - val_loss: 1.1762 - val_acc: 0.6754\n",
            "Epoch 12/25\n",
            "50000/50000 [==============================] - 10s 198us/step - loss: 0.2465 - acc: 0.9162 - val_loss: 1.2153 - val_acc: 0.6741\n",
            "Epoch 13/25\n",
            "50000/50000 [==============================] - 10s 208us/step - loss: 0.2100 - acc: 0.9298 - val_loss: 1.2481 - val_acc: 0.6694\n",
            "Epoch 14/25\n",
            "50000/50000 [==============================] - 11s 213us/step - loss: 0.1856 - acc: 0.9377 - val_loss: 1.2936 - val_acc: 0.6723\n",
            "Epoch 15/25\n",
            "50000/50000 [==============================] - 10s 200us/step - loss: 0.1633 - acc: 0.9452 - val_loss: 1.3211 - val_acc: 0.6765\n",
            "Epoch 16/25\n",
            "50000/50000 [==============================] - 10s 198us/step - loss: 0.1447 - acc: 0.9521 - val_loss: 1.3515 - val_acc: 0.6743\n",
            "Epoch 17/25\n",
            "50000/50000 [==============================] - 10s 197us/step - loss: 0.1257 - acc: 0.9601 - val_loss: 1.3802 - val_acc: 0.6741\n",
            "Epoch 18/25\n",
            "50000/50000 [==============================] - 10s 198us/step - loss: 0.1161 - acc: 0.9635 - val_loss: 1.3810 - val_acc: 0.6775\n",
            "Epoch 19/25\n",
            "50000/50000 [==============================] - 10s 198us/step - loss: 0.1049 - acc: 0.9667 - val_loss: 1.4455 - val_acc: 0.6769\n",
            "Epoch 20/25\n",
            "50000/50000 [==============================] - 10s 197us/step - loss: 0.0998 - acc: 0.9676 - val_loss: 1.4654 - val_acc: 0.6735\n",
            "Epoch 21/25\n",
            "50000/50000 [==============================] - 10s 198us/step - loss: 0.0880 - acc: 0.9727 - val_loss: 1.4443 - val_acc: 0.6823\n",
            "Epoch 22/25\n",
            "50000/50000 [==============================] - 11s 212us/step - loss: 0.0822 - acc: 0.9742 - val_loss: 1.4925 - val_acc: 0.6771\n",
            "Epoch 23/25\n",
            "50000/50000 [==============================] - 10s 201us/step - loss: 0.0768 - acc: 0.9756 - val_loss: 1.4907 - val_acc: 0.6784\n",
            "Epoch 24/25\n",
            "50000/50000 [==============================] - 10s 198us/step - loss: 0.0715 - acc: 0.9772 - val_loss: 1.5288 - val_acc: 0.6808\n",
            "Epoch 25/25\n",
            "50000/50000 [==============================] - 10s 197us/step - loss: 0.0668 - acc: 0.9796 - val_loss: 1.5211 - val_acc: 0.6836\n"
          ],
          "name": "stdout"
        }
      ]
    },
    {
      "cell_type": "markdown",
      "metadata": {
        "id": "yZ-dfso7dJxd",
        "colab_type": "text"
      },
      "source": [
        "### 2.3 Model Evaluation"
      ]
    },
    {
      "cell_type": "markdown",
      "metadata": {
        "id": "i1CxsbMBJoNw",
        "colab_type": "text"
      },
      "source": [
        "#### 2.3.1Training history visualization"
      ]
    },
    {
      "cell_type": "code",
      "metadata": {
        "id": "0hTF3faNJykr",
        "colab_type": "code",
        "outputId": "a4545981-2b2d-4ee0-b78c-468d244b4342",
        "colab": {
          "base_uri": "https://localhost:8080/",
          "height": 572
        }
      },
      "source": [
        "# Plot training & validation accuracy values\n",
        "plt.plot(history.history['acc'])\n",
        "plt.plot(history.history['val_acc'])\n",
        "plt.title('Model accuracy')\n",
        "plt.ylabel('Accuracy')\n",
        "plt.xlabel('Epoch')\n",
        "plt.legend(['Train', 'Test'], loc='upper left')\n",
        "plt.show()\n",
        "\n",
        "# Plot training & validation loss values\n",
        "plt.plot(history.history['loss'])\n",
        "plt.plot(history.history['val_loss'])\n",
        "plt.title('Model loss')\n",
        "plt.ylabel('Loss')\n",
        "plt.xlabel('Epoch')\n",
        "plt.legend(['Train', 'Test'], loc='upper left')\n",
        "plt.show()"
      ],
      "execution_count": 0,
      "outputs": [
        {
          "output_type": "display_data",
          "data": {
            "image/png": "[encoded data removed]",
            "text/plain": [
              "<Figure size 432x288 with 1 Axes>"
            ]
          },
          "metadata": {
            "tags": []
          }
        },
        {
          "output_type": "display_data",
          "data": {
            "image/png": "[encoded data removed]",
            "text/plain": [
              "<Figure size 432x288 with 1 Axes>"
            ]
          },
          "metadata": {
            "tags": []
          }
        }
      ]
    },
    {
      "cell_type": "code",
      "metadata": {
        "id": "UbSMnINZZ4Ke",
        "colab_type": "code",
        "outputId": "d13027c3-aa5d-4a19-cfb3-ffaad3ed573c",
        "colab": {
          "base_uri": "https://localhost:8080/",
          "height": 50
        }
      },
      "source": [
        "scores = model.evaluate(X_test,y_test)\n",
        "print('CNN error rate :', 100 - scores[1]*100)"
      ],
      "execution_count": 0,
      "outputs": [
        {
          "output_type": "stream",
          "text": [
            "10000/10000 [==============================] - 1s 68us/step\n",
            "CNN error rate : 31.64\n"
          ],
          "name": "stdout"
        }
      ]
    },
    {
      "cell_type": "markdown",
      "metadata": {
        "id": "tXXsM2gnZ54o",
        "colab_type": "text"
      },
      "source": [
        "**Thus we can see that the model is not that good**\n"
      ]
    },
    {
      "cell_type": "markdown",
      "metadata": {
        "id": "SxxtWPvedjk7",
        "colab_type": "text"
      },
      "source": [
        "### 3.1 Improving the model with a deeper network topology"
      ]
    },
    {
      "cell_type": "markdown",
      "metadata": {
        "id": "C2ixpmLBe9mq",
        "colab_type": "text"
      },
      "source": [
        "**Baseline network structure can be summarized as follows:**\n",
        "\n",
        "\n",
        "\n",
        "1.   Convolutional input layer, 32 feature maps with a size of 3×3 and a rectifier activation function.\n",
        "2.   Dropout layer at 20%.\n",
        "3.   Convolutional layer, 32 feature maps with a size of 3×3 and a rectifier activation function.\n",
        "4.   Max Pool layer with size 2×2.\n",
        "5.   Convolutional layer, 64 feature maps with a size of 3×3 and a rectifier activation function.\n",
        "6.   Dropout layer at 20%.\n",
        "7.   Convolutional layer, 64 feature maps with a size of 3×3 and a rectifier activation function.\n",
        "8.   Max Pool layer with size 2×2.\n",
        "9.   Convolutional layer, 128 feature maps with a size of 3×3 and a rectifier activation function.\n",
        "10. Dropout layer at 20%.\n",
        "11. Convolutional layer,128 feature maps with a size of 3×3 and a rectifier activation function.\n",
        "12. Max Pool layer with size 2×2.\n",
        "13. Flatten layer.\n",
        "14. Dropout layer at 20%.\n",
        "15. Fully connected layer with 1024 units and a rectifier activation function.\n",
        "16. Dropout layer at 20%.\n",
        "17. Fully connected layer with 512 units and a rectifier activation function.\n",
        "18. Dropout layer at 20%.\n",
        "19. Fully connected output layer with 10 units and a softmax activation function.\n",
        "\n"
      ]
    },
    {
      "cell_type": "code",
      "metadata": {
        "id": "XHpTx-W2gDNY",
        "colab_type": "code",
        "outputId": "9f3610ae-3cfa-40e2-ae5e-44ba685c8fe7",
        "colab": {
          "base_uri": "https://localhost:8080/",
          "height": 870
        }
      },
      "source": [
        "# padding = Padding: Padding is generally used to add columns and rows of zeroes to keep the spatial sizes \n",
        "# constant after convolution, doing this might improve performance as it retains the information at the borders.\n",
        "# Parameters for the padding function in Keras are Same- output size is the same as input size\n",
        "\n",
        "model = Sequential()\n",
        "model.add(Conv2D(filters = 32, kernel_size = (3,3), activation = 'relu', padding= 'same'))\n",
        "model.add(Dropout(rate = 0.2))\n",
        "model.add(Conv2D(filters = 32, kernel_size = (3,3), activation = 'relu', padding= 'same'))\n",
        "model.add(MaxPooling2D(pool_size = (2,2)))\n",
        "\n",
        "model.add(Conv2D(filters = 64, kernel_size = (3,3), activation = 'relu', padding= 'same'))\n",
        "model.add(Dropout(rate = 0.2))\n",
        "model.add(Conv2D(filters = 64, kernel_size = (3,3), activation = 'relu', padding= 'same'))\n",
        "model.add(MaxPooling2D(pool_size = (2,2)))\n",
        "\n",
        "model.add(Conv2D(filters = 128, kernel_size = (3,3), activation = 'relu', padding= 'same'))\n",
        "model.add(Dropout(rate = 0.2))\n",
        "\n",
        "model.add(Conv2D(filters = 128, kernel_size = (3,3), activation = 'relu', padding= 'same'))\n",
        "model.add(MaxPooling2D(pool_size = (2,2)))\n",
        "model.add(Flatten())\n",
        "model.add(Dropout(rate = 0.2))\n",
        "\n",
        "model.add(Dense(units = 1024, activation = 'relu', kernel_constraint = MaxNorm(3)))\n",
        "model.add(Dropout(rate = 0.2))\n",
        "\n",
        "model.add(Dense(units = 512, activation = 'relu', kernel_constraint= MaxNorm(3)))\n",
        "model.add(Dropout(rate = 0.2))\n",
        "\n",
        "model.add(Dense(units = 10, activation = 'softmax'))\n",
        "\n",
        "# compiling model\n",
        "\n",
        "# We will be using as the optimizer\n",
        "\n",
        "l_rate = 0.01\n",
        "epoch = 25\n",
        "decay_rate = l_rate/epoch\n",
        "sgd = SGD(lr = l_rate, momentum = 0.9, decay = decay_rate)\n",
        "model.compile(optimizer = sgd, loss = 'categorical_crossentropy', metrics = ['accuracy'])\n",
        "\n",
        "# Fitting the model\n",
        "history = model.fit(X_train, y_train, validation_data = (X_test, y_test), batch_size = 64, epochs = epoch)"
      ],
      "execution_count": 0,
      "outputs": [
        {
          "output_type": "stream",
          "text": [
            "Train on 50000 samples, validate on 10000 samples\n",
            "Epoch 1/25\n",
            "50000/50000 [==============================] - 12s 239us/step - loss: 1.9594 - acc: 0.2737 - val_loss: 1.6226 - val_acc: 0.4123\n",
            "Epoch 2/25\n",
            "50000/50000 [==============================] - 11s 223us/step - loss: 1.5173 - acc: 0.4442 - val_loss: 1.4494 - val_acc: 0.4870\n",
            "Epoch 3/25\n",
            "50000/50000 [==============================] - 11s 224us/step - loss: 1.3120 - acc: 0.5237 - val_loss: 1.2005 - val_acc: 0.5709\n",
            "Epoch 4/25\n",
            "50000/50000 [==============================] - 12s 237us/step - loss: 1.1547 - acc: 0.5856 - val_loss: 1.0935 - val_acc: 0.6070\n",
            "Epoch 5/25\n",
            "50000/50000 [==============================] - 11s 225us/step - loss: 1.0403 - acc: 0.6301 - val_loss: 0.9489 - val_acc: 0.6621\n",
            "Epoch 6/25\n",
            "50000/50000 [==============================] - 11s 223us/step - loss: 0.9464 - acc: 0.6647 - val_loss: 0.8943 - val_acc: 0.6798\n",
            "Epoch 7/25\n",
            "50000/50000 [==============================] - 11s 229us/step - loss: 0.8804 - acc: 0.6868 - val_loss: 0.8777 - val_acc: 0.6924\n",
            "Epoch 8/25\n",
            "50000/50000 [==============================] - 12s 230us/step - loss: 0.8234 - acc: 0.7081 - val_loss: 0.8035 - val_acc: 0.7170\n",
            "Epoch 9/25\n",
            "50000/50000 [==============================] - 11s 223us/step - loss: 0.7768 - acc: 0.7244 - val_loss: 0.7749 - val_acc: 0.7287\n",
            "Epoch 10/25\n",
            "50000/50000 [==============================] - 11s 223us/step - loss: 0.7325 - acc: 0.7426 - val_loss: 0.7395 - val_acc: 0.7424\n",
            "Epoch 11/25\n",
            "50000/50000 [==============================] - 11s 224us/step - loss: 0.6918 - acc: 0.7553 - val_loss: 0.7223 - val_acc: 0.7496\n",
            "Epoch 12/25\n",
            "50000/50000 [==============================] - 11s 228us/step - loss: 0.6667 - acc: 0.7634 - val_loss: 0.6864 - val_acc: 0.7577\n",
            "Epoch 13/25\n",
            "50000/50000 [==============================] - 11s 226us/step - loss: 0.6339 - acc: 0.7756 - val_loss: 0.6702 - val_acc: 0.7656\n",
            "Epoch 14/25\n",
            "50000/50000 [==============================] - 11s 227us/step - loss: 0.6095 - acc: 0.7846 - val_loss: 0.6931 - val_acc: 0.7569\n",
            "Epoch 15/25\n",
            "50000/50000 [==============================] - 12s 231us/step - loss: 0.5808 - acc: 0.7941 - val_loss: 0.6858 - val_acc: 0.7613\n",
            "Epoch 16/25\n",
            "50000/50000 [==============================] - 11s 223us/step - loss: 0.5618 - acc: 0.8005 - val_loss: 0.6648 - val_acc: 0.7699\n",
            "Epoch 17/25\n",
            "50000/50000 [==============================] - 11s 223us/step - loss: 0.5395 - acc: 0.8101 - val_loss: 0.6459 - val_acc: 0.7786\n",
            "Epoch 18/25\n",
            "50000/50000 [==============================] - 11s 223us/step - loss: 0.5205 - acc: 0.8171 - val_loss: 0.6559 - val_acc: 0.7735\n",
            "Epoch 19/25\n",
            "50000/50000 [==============================] - 11s 223us/step - loss: 0.5009 - acc: 0.8220 - val_loss: 0.6453 - val_acc: 0.7796\n",
            "Epoch 20/25\n",
            "50000/50000 [==============================] - 11s 222us/step - loss: 0.4841 - acc: 0.8284 - val_loss: 0.6249 - val_acc: 0.7823\n",
            "Epoch 21/25\n",
            "50000/50000 [==============================] - 11s 224us/step - loss: 0.4700 - acc: 0.8336 - val_loss: 0.6223 - val_acc: 0.7879\n",
            "Epoch 22/25\n",
            "50000/50000 [==============================] - 12s 234us/step - loss: 0.4512 - acc: 0.8405 - val_loss: 0.6189 - val_acc: 0.7904\n",
            "Epoch 23/25\n",
            "50000/50000 [==============================] - 11s 223us/step - loss: 0.4393 - acc: 0.8428 - val_loss: 0.6152 - val_acc: 0.7887\n",
            "Epoch 24/25\n",
            "50000/50000 [==============================] - 11s 223us/step - loss: 0.4272 - acc: 0.8485 - val_loss: 0.6027 - val_acc: 0.7952\n",
            "Epoch 25/25\n",
            "50000/50000 [==============================] - 11s 223us/step - loss: 0.4150 - acc: 0.8510 - val_loss: 0.6013 - val_acc: 0.7953\n"
          ],
          "name": "stdout"
        }
      ]
    },
    {
      "cell_type": "markdown",
      "metadata": {
        "id": "V1nEi1cimrR2",
        "colab_type": "text"
      },
      "source": [
        "### 3.2 Revauluation of the deeper network topology CNN model"
      ]
    },
    {
      "cell_type": "markdown",
      "metadata": {
        "id": "fcei0ldOJAzL",
        "colab_type": "text"
      },
      "source": [
        "[link text](https://keras.io/visualization/)"
      ]
    },
    {
      "cell_type": "code",
      "metadata": {
        "id": "W3P0qb3CERha",
        "colab_type": "code",
        "outputId": "462b81fb-4097-4967-bad3-ffb5593ccc46",
        "colab": {
          "base_uri": "https://localhost:8080/",
          "height": 572
        }
      },
      "source": [
        "# training history visualization: https://keras.io/visualization/\n",
        "\n",
        "\n",
        "# Plot training & validation accuracy values\n",
        "plt.plot(history.history['acc'])\n",
        "plt.plot(history.history['val_acc'])\n",
        "plt.title('Model accuracy')\n",
        "plt.ylabel('Accuracy')\n",
        "plt.xlabel('Epoch')\n",
        "plt.legend(['Train', 'Test'], loc='upper left')\n",
        "plt.show()\n",
        "\n",
        "# Plot training & validation loss values\n",
        "plt.plot(history.history['loss'])\n",
        "plt.plot(history.history['val_loss'])\n",
        "plt.title('Model loss')\n",
        "plt.ylabel('Loss')\n",
        "plt.xlabel('Epoch')\n",
        "plt.legend(['Train', 'Test'], loc='upper left')\n",
        "plt.show()"
      ],
      "execution_count": 0,
      "outputs": [
        {
          "output_type": "display_data",
          "data": {
            "image/png": "[encoded data removed]",
            "text/plain": [
              "<Figure size 432x288 with 1 Axes>"
            ]
          },
          "metadata": {
            "tags": []
          }
        },
        {
          "output_type": "display_data",
          "data": {
            "image/png": "[encoded data removed]",
            "text/plain": [
              "<Figure size 432x288 with 1 Axes>"
            ]
          },
          "metadata": {
            "tags": []
          }
        }
      ]
    },
    {
      "cell_type": "code",
      "metadata": {
        "id": "p6yrFLK0mn5M",
        "colab_type": "code",
        "outputId": "87e31166-014f-4650-e540-042b1a989247",
        "colab": {
          "base_uri": "https://localhost:8080/",
          "height": 836
        }
      },
      "source": [
        "print(model.summary())\n",
        "\n",
        "scores = model.evaluate(X_test,y_test)\n",
        "print('CNN error rate :', 100 - scores[1]*100)\n",
        "print('CNN model accuracy :', scores[1]*100)"
      ],
      "execution_count": 0,
      "outputs": [
        {
          "output_type": "stream",
          "text": [
            "_________________________________________________________________\n",
            "Layer (type)                 Output Shape              Param #   \n",
            "=================================================================\n",
            "conv2d_37 (Conv2D)           (None, 32, 32, 32)        896       \n",
            "_________________________________________________________________\n",
            "dropout_34 (Dropout)         (None, 32, 32, 32)        0         \n",
            "_________________________________________________________________\n",
            "conv2d_38 (Conv2D)           (None, 32, 32, 32)        9248      \n",
            "_________________________________________________________________\n",
            "max_pooling2d_19 (MaxPooling (None, 16, 16, 32)        0         \n",
            "_________________________________________________________________\n",
            "conv2d_39 (Conv2D)           (None, 16, 16, 64)        18496     \n",
            "_________________________________________________________________\n",
            "dropout_35 (Dropout)         (None, 16, 16, 64)        0         \n",
            "_________________________________________________________________\n",
            "conv2d_40 (Conv2D)           (None, 16, 16, 64)        36928     \n",
            "_________________________________________________________________\n",
            "max_pooling2d_20 (MaxPooling (None, 8, 8, 64)          0         \n",
            "_________________________________________________________________\n",
            "conv2d_41 (Conv2D)           (None, 8, 8, 128)         73856     \n",
            "_________________________________________________________________\n",
            "dropout_36 (Dropout)         (None, 8, 8, 128)         0         \n",
            "_________________________________________________________________\n",
            "conv2d_42 (Conv2D)           (None, 8, 8, 128)         147584    \n",
            "_________________________________________________________________\n",
            "max_pooling2d_21 (MaxPooling (None, 4, 4, 128)         0         \n",
            "_________________________________________________________________\n",
            "flatten_7 (Flatten)          (None, 2048)              0         \n",
            "_________________________________________________________________\n",
            "dropout_37 (Dropout)         (None, 2048)              0         \n",
            "_________________________________________________________________\n",
            "dense_17 (Dense)             (None, 1024)              2098176   \n",
            "_________________________________________________________________\n",
            "dropout_38 (Dropout)         (None, 1024)              0         \n",
            "_________________________________________________________________\n",
            "dense_18 (Dense)             (None, 512)               524800    \n",
            "_________________________________________________________________\n",
            "dropout_39 (Dropout)         (None, 512)               0         \n",
            "_________________________________________________________________\n",
            "dense_19 (Dense)             (None, 10)                5130      \n",
            "=================================================================\n",
            "Total params: 2,915,114\n",
            "Trainable params: 2,915,114\n",
            "Non-trainable params: 0\n",
            "_________________________________________________________________\n",
            "None\n",
            "10000/10000 [==============================] - 1s 84us/step\n",
            "CNN error rate : 20.47\n",
            "CNN model accuracy : 79.53\n"
          ],
          "name": "stdout"
        }
      ]
    },
    {
      "cell_type": "markdown",
      "metadata": {
        "id": "C-Tr0v1NqRRV",
        "colab_type": "text"
      },
      "source": [
        "### 4.1  Increasing the model performance using Test-Time Augmentation"
      ]
    },
    {
      "cell_type": "markdown",
      "metadata": {
        "id": "19VoJTEatBsG",
        "colab_type": "text"
      },
      "source": [
        "**1. First, we define a function named load_dataset() that will load the CIFAR-10 dataset and prepare it for modeling.**"
      ]
    },
    {
      "cell_type": "code",
      "metadata": {
        "id": "PFHmyn0GqfUK",
        "colab_type": "code",
        "colab": {}
      },
      "source": [
        "from keras.datasets.cifar10 import load_data\n",
        "from keras.utils import np_utils\n",
        "from keras.layers import BatchNormalization\n",
        "\n",
        "# load and return the cifar10 dataset ready for modeling\n",
        "def load_dataset():\n",
        "\t# load dataset\n",
        "\t(trainX, trainY), (testX, testY) = load_data()\n",
        "\t# normalize pixel values\n",
        "\ttrainX = trainX.astype('float32') / 255\n",
        "\ttestX = testX.astype('float32') / 255\n",
        "\t# one hot encode target values\n",
        "\ttrainY = np_utils.to_categorical(trainY)\n",
        "\ttestY = np_utils.to_categorical(testY)\n",
        "\treturn trainX, trainY, testX, testY"
      ],
      "execution_count": 0,
      "outputs": []
    },
    {
      "cell_type": "markdown",
      "metadata": {
        "id": "VTG5PvZ2tPj6",
        "colab_type": "text"
      },
      "source": [
        "**2. Next, we define a function named define_model() that will define a model for the CIFAR-10 dataset, ready to be fit and then evaluated**"
      ]
    },
    {
      "cell_type": "code",
      "metadata": {
        "id": "_KdZJm8itTyR",
        "colab_type": "code",
        "colab": {}
      },
      "source": [
        "# define the cnn model for the cifar10 dataset\n",
        "def define_model():\n",
        "\t# define model\n",
        "\tmodel = Sequential()\n",
        "\tmodel.add(Conv2D(32, (3, 3), activation='relu', padding='same', kernel_initializer='he_uniform'))\n",
        "\tmodel.add(BatchNormalization())\n",
        "\tmodel.add(MaxPooling2D((2, 2)))\n",
        "\tmodel.add(Conv2D(64, (3, 3), activation='relu', padding='same', kernel_initializer='he_uniform'))\n",
        "\tmodel.add(BatchNormalization())\n",
        "\tmodel.add(MaxPooling2D((2, 2)))\n",
        "\tmodel.add(Flatten())\n",
        "\tmodel.add(Dense(128, activation='relu', kernel_initializer='he_uniform'))\n",
        "\tmodel.add(BatchNormalization())\n",
        "\tmodel.add(Dense(10, activation='softmax'))\n",
        "\t# compile model\n",
        "\tmodel.compile(optimizer='adam', loss='categorical_crossentropy', metrics=['accuracy'])\n",
        "\treturn model"
      ],
      "execution_count": 0,
      "outputs": []
    },
    {
      "cell_type": "markdown",
      "metadata": {
        "id": "jSvDFaFRtT0r",
        "colab_type": "text"
      },
      "source": [
        "**3. Next, an evaluate_model() function is defined that will fit the defined model on the training dataset and then evaluate it on the test dataset, returning the estimated classification accuracy for the run.**"
      ]
    },
    {
      "cell_type": "code",
      "metadata": {
        "id": "9RnKpdRXtT3E",
        "colab_type": "code",
        "colab": {}
      },
      "source": [
        "# fit and evaluate a defined model\n",
        "def evaluate_model(model, trainX, trainY, testX, testY):\n",
        "\t# fit model\n",
        "\tmodel.fit(trainX, trainY, epochs=3, batch_size=128, verbose=0)\n",
        "\t# evaluate model\n",
        "\t_, acc = model.evaluate(testX, testY, verbose=0)\n",
        "\treturn acc"
      ],
      "execution_count": 0,
      "outputs": []
    },
    {
      "cell_type": "markdown",
      "metadata": {
        "id": "RCRk2KiatT5V",
        "colab_type": "text"
      },
      "source": [
        "**4. Next, we can define a function with new behavior to repeatedly define, fit, and evaluate a new model and return the distribution of accuracy scores.**\n",
        "\n",
        "**The repeated_evaluation() function below implements this, taking the dataset and using a default of 10 repeated evaluations.**"
      ]
    },
    {
      "cell_type": "code",
      "metadata": {
        "id": "11PnWkJvtT9W",
        "colab_type": "code",
        "colab": {}
      },
      "source": [
        "# repeatedly evaluate model, return distribution of scores\n",
        "def repeated_evaluation(trainX, trainY, testX, testY, repeats=10):\n",
        "\tscores = list()\n",
        "\tfor _ in range(repeats):\n",
        "\t\t# define model\n",
        "\t\tmodel = define_model()\n",
        "\t\t# fit and evaluate model\n",
        "\t\taccuracy = evaluate_model(model, trainX, trainY, testX, testY)\n",
        "\t\t# store score\n",
        "\t\tscores.append(accuracy)\n",
        "\t\tprint('> %.3f' % accuracy)\n",
        "\treturn scores"
      ],
      "execution_count": 0,
      "outputs": []
    },
    {
      "cell_type": "markdown",
      "metadata": {
        "id": "m53kTwd6tT_z",
        "colab_type": "text"
      },
      "source": [
        "**5. Finally, we can call the load_dataset() function to prepare the dataset, then repeated_evaluation() to get a distribution of accuracy scores that can be summarized by reporting the mean and standard deviation.**"
      ]
    },
    {
      "cell_type": "code",
      "metadata": {
        "id": "KsLb09CwtUCH",
        "colab_type": "code",
        "outputId": "e186c098-4f01-4287-83bf-1d302e759464",
        "colab": {
          "base_uri": "https://localhost:8080/",
          "height": 33
        }
      },
      "source": [
        "# load dataset\n",
        "trainX, trainY, testX, testY = load_dataset()\n",
        "# evaluate model\n",
        "scores = repeated_evaluation(trainX, trainY, testX, testY)\n",
        "# summarize result\n",
        "print('Accuracy: %.3f (%.3f)' % (np.mean(scores), np.std(scores)))"
      ],
      "execution_count": 0,
      "outputs": [
        {
          "output_type": "stream",
          "text": [
            "Accuracy: 0.668 (0.033)\n"
          ],
          "name": "stdout"
        }
      ]
    },
    {
      "cell_type": "markdown",
      "metadata": {
        "id": "wme1hAKMtUEB",
        "colab_type": "text"
      },
      "source": [
        "**Observation: Test time augmentation has not improved the model performance**"
      ]
    },
    {
      "cell_type": "markdown",
      "metadata": {
        "id": "yhMCRKiJb3LN",
        "colab_type": "text"
      },
      "source": [
        "**In Keras, We have a ImageDataGenerator class that is used to generate batches of tensor image data with real-time data augmentation. The data will be looped over (in batches) indefinitely. The image data is generated by transforming the actual training images by rotation, crop, shifts, shear, zoom, flip, reflection, normalization etc. bold text**"
      ]
    },
    {
      "cell_type": "markdown",
      "metadata": {
        "id": "tFK4e1NS5RoP",
        "colab_type": "text"
      },
      "source": [
        "### 5.1Improving CNN with Image augmentation"
      ]
    },
    {
      "cell_type": "code",
      "metadata": {
        "id": "2NpBrlmIya0J",
        "colab_type": "code",
        "colab": {}
      },
      "source": [
        "from keras.preprocessing.image import ImageDataGenerator"
      ],
      "execution_count": 0,
      "outputs": []
    },
    {
      "cell_type": "code",
      "metadata": {
        "id": "XNj779Q4yfwD",
        "colab_type": "code",
        "outputId": "2e4dcdd1-890d-451c-a59c-234e6eca26bb",
        "colab": {
          "base_uri": "https://localhost:8080/",
          "height": 269
        }
      },
      "source": [
        "# creating the image generator\n",
        "datagen = ImageDataGenerator(rotation_range=90, \n",
        "                             width_shift_range=0.1, \n",
        "                             height_shift_range=0.1, \n",
        "                             horizontal_flip=True)\n",
        "datagen.fit(X_train)\n",
        "\n",
        "# Creating batches of images \n",
        "\n",
        "for X_batch,y_batch in datagen.flow(X_train, y_train, batch_size = 9):\n",
        "    for i in range(0,9):\n",
        "        plt.subplot(331 + i)\n",
        "        plt.imshow(X_batch[i])\n",
        "    plt.show()\n",
        "    break"
      ],
      "execution_count": 0,
      "outputs": [
        {
          "output_type": "display_data",
          "data": {
            "image/png": "[encoded data removed]",
            "text/plain": [
              "<Figure size 432x288 with 9 Axes>"
            ]
          },
          "metadata": {
            "tags": []
          }
        }
      ]
    },
    {
      "cell_type": "code",
      "metadata": {
        "id": "1BSd6BSAyf9x",
        "colab_type": "code",
        "colab": {}
      },
      "source": [
        "import keras\n",
        "from keras.models import Sequential\n",
        "from keras.utils import np_utils\n",
        "from keras.preprocessing.image import ImageDataGenerator\n",
        "from keras.layers import Dense, Activation, Flatten, Dropout, BatchNormalization\n",
        "from keras.layers import Conv2D, MaxPooling2D\n",
        "from keras.datasets import cifar10\n",
        "from keras import regularizers\n",
        "from keras.callbacks import LearningRateScheduler\n",
        "import numpy as np\n",
        " \n",
        "def lr_schedule(epoch):\n",
        "    lrate = 0.001\n",
        "    if epoch > 75:\n",
        "        lrate = 0.0005\n",
        "    if epoch > 100:\n",
        "        lrate = 0.0003\n",
        "    return lrate\n",
        " \n",
        "(x_train, y_train), (x_test, y_test) = cifar10.load_data()\n",
        "x_train = x_train.astype('float32')\n",
        "x_test = x_test.astype('float32')\n",
        " \n",
        "#z-score\n",
        "mean = np.mean(x_train,axis=(0,1,2,3))\n",
        "std = np.std(x_train,axis=(0,1,2,3))\n",
        "x_train = (x_train-mean)/(std+1e-7)\n",
        "x_test = (x_test-mean)/(std+1e-7)\n",
        " \n",
        "num_classes = 10\n",
        "y_train = np_utils.to_categorical(y_train,num_classes)\n",
        "y_test = np_utils.to_categorical(y_test,num_classes)\n",
        " \n",
        "weight_decay = 1e-4\n",
        "model = Sequential()\n",
        "model.add(Conv2D(32, (3,3), padding='same', kernel_regularizer=regularizers.l2(weight_decay), input_shape=x_train.shape[1:]))\n",
        "model.add(Activation('elu'))\n",
        "model.add(BatchNormalization())\n",
        "model.add(Conv2D(32, (3,3), padding='same', kernel_regularizer=regularizers.l2(weight_decay)))\n",
        "model.add(Activation('elu'))\n",
        "model.add(BatchNormalization())\n",
        "model.add(MaxPooling2D(pool_size=(2,2)))\n",
        "model.add(Dropout(0.2))\n",
        " \n",
        "model.add(Conv2D(64, (3,3), padding='same', kernel_regularizer=regularizers.l2(weight_decay)))\n",
        "model.add(Activation('elu'))\n",
        "model.add(BatchNormalization())\n",
        "model.add(Conv2D(64, (3,3), padding='same', kernel_regularizer=regularizers.l2(weight_decay)))\n",
        "model.add(Activation('elu'))\n",
        "model.add(BatchNormalization())\n",
        "model.add(MaxPooling2D(pool_size=(2,2)))\n",
        "model.add(Dropout(0.3))\n",
        " \n",
        "model.add(Conv2D(128, (3,3), padding='same', kernel_regularizer=regularizers.l2(weight_decay)))\n",
        "model.add(Activation('elu'))\n",
        "model.add(BatchNormalization())\n",
        "model.add(Conv2D(128, (3,3), padding='same', kernel_regularizer=regularizers.l2(weight_decay)))\n",
        "model.add(Activation('elu'))\n",
        "model.add(BatchNormalization())\n",
        "model.add(MaxPooling2D(pool_size=(2,2)))\n",
        "model.add(Dropout(0.4))\n",
        " \n",
        "model.add(Flatten())\n",
        "model.add(Dense(num_classes, activation='softmax'))\n",
        " \n",
        "model.summary()\n",
        " \n",
        "#data augmentation\n",
        "datagen = ImageDataGenerator(\n",
        "    rotation_range=15,\n",
        "    width_shift_range=0.1,\n",
        "    height_shift_range=0.1,\n",
        "    horizontal_flip=True,\n",
        "    )\n",
        "datagen.fit(x_train)\n",
        " \n",
        "#training\n",
        "batch_size = 64\n",
        " \n",
        "opt_rms = keras.optimizers.rmsprop(lr=0.001,decay=1e-6)\n",
        "model.compile(loss='categorical_crossentropy', optimizer=opt_rms, metrics=['accuracy'])\n",
        "model.fit_generator(datagen.flow(x_train, y_train, batch_size=batch_size),\\\n",
        "                    steps_per_epoch=x_train.shape[0] // batch_size,epochs=125,\\\n",
        "                    verbose=1,validation_data=(x_test,y_test),callbacks=[LearningRateScheduler(lr_schedule)])\n",
        "#save to disk\n",
        "model_json = model.to_json()\n",
        "with open('model.json', 'w') as json_file:\n",
        "    json_file.write(model_json)\n",
        "model.save_weights('model.h5') \n",
        " \n",
        "#testing\n",
        "scores = model.evaluate(x_test, y_test, batch_size=128, verbose=1)\n",
        "print('\\nTest result: %.3f loss: %.3f' % (scores[1]*100,scores[0])"
      ],
      "execution_count": 0,
      "outputs": []
    },
    {
      "cell_type": "code",
      "metadata": {
        "id": "pxS8m2zfygAO",
        "colab_type": "code",
        "outputId": "4013582d-0dbe-42bf-b973-2d27fd28d24b",
        "colab": {
          "base_uri": "https://localhost:8080/",
          "height": 3332
        }
      },
      "source": [
        "# Creating the CNN\n",
        "\n",
        "model = Sequential()\n",
        "model.add(Conv2D(filters = 32, kernel_size = (3,3), activation = 'relu', padding= 'same'))\n",
        "model.add(Dropout(rate = 0.2))\n",
        "model.add(Conv2D(filters = 32, kernel_size = (3,3), activation = 'relu', padding= 'same'))\n",
        "model.add(MaxPooling2D(pool_size = (2,2)))\n",
        "model.add(Conv2D(filters = 64, kernel_size = (3,3), activation = 'relu', padding= 'same'))\n",
        "model.add(Dropout(rate = 0.2))\n",
        "model.add(Conv2D(filters = 64, kernel_size = (3,3), activation = 'relu', padding= 'same'))\n",
        "model.add(MaxPooling2D(pool_size = (2,2)))\n",
        "model.add(Conv2D(filters = 128, kernel_size = (3,3), activation = 'relu', padding= 'same'))\n",
        "model.add(Dropout(rate = 0.2))\n",
        "model.add(Conv2D(filters = 128, kernel_size = (3,3), activation = 'relu', padding= 'same'))\n",
        "model.add(MaxPooling2D(pool_size = (2,2)))\n",
        "model.add(Flatten())\n",
        "model.add(Dropout(rate = 0.2))\n",
        "model.add(Dense(units = 1024, activation = 'relu', kernel_constraint = MaxNorm(3)))\n",
        "model.add(Dropout(rate = 0.2))\n",
        "model.add(Dense(units = 512, activation = 'relu', kernel_constraint= MaxNorm(3)))\n",
        "model.add(Dropout(rate = 0.2))\n",
        "model.add(Dense(units = 10, activation = 'softmax'))\n",
        "\n",
        "# compiling model\n",
        "\n",
        "# We will be using as the optimizer\n",
        "\n",
        "l_rate = 0.01\n",
        "epoch = 25\n",
        "decay_rate = l_rate/epoch\n",
        "sgd = SGD(lr = l_rate, momentum = 0.9, decay = decay_rate)\n",
        "model.compile(optimizer = sgd, loss = 'categorical_crossentropy', metrics = ['accuracy'])\n",
        "\n",
        "# Fitting the model\n",
        "\n",
        "model.fit(X_train, y_train, validation_data = (X_test, y_test), batch_size = 64, epochs = epoch)\n",
        "model.summary()\n",
        "\n",
        "#data augmentation\n",
        "datagen = ImageDataGenerator(rotation_range=15,\n",
        "                            width_shift_range=0.1,\n",
        "                            height_shift_range=0.1,\n",
        "                            horizontal_flip=True)\n",
        "datagen.fit(X_train)\n",
        "\n",
        "#training\n",
        "batch_size = 64\n",
        " \n",
        "opt_rms = keras.optimizers.rmsprop(lr=0.001,decay=1e-6)\n",
        "model.compile(loss='categorical_crossentropy', optimizer=opt_rms, metrics=['accuracy'])\n",
        "\n",
        "model.fit_generator(datagen.flow(X_train, y_train, batch_size=batch_size),\\\n",
        "                    steps_per_epoch=X_train.shape[0] // batch_size,epochs=20,\\\n",
        "                    verbose=1,validation_data=(X_test,y_test))\n",
        "\n",
        "\n",
        "# steps_per_epoch = (num_samples / batch_size)\n",
        "\n",
        "# How to use image generator with CNN: https://appliedmachinelearning.blog/2018/03/24/achieving-90-accuracy-in-object-recognition-task-on-cifar-10-dataset-with-keras-convolutional-neural-networks/"
      ],
      "execution_count": 0,
      "outputs": [
        {
          "output_type": "stream",
          "text": [
            "Train on 50000 samples, validate on 10000 samples\n",
            "Epoch 1/25\n",
            "50000/50000 [==============================] - 12s 232us/step - loss: 1.9179 - acc: 0.2931 - val_loss: 1.6581 - val_acc: 0.4119\n",
            "Epoch 2/25\n",
            "50000/50000 [==============================] - 10s 196us/step - loss: 1.5119 - acc: 0.4475 - val_loss: 1.3636 - val_acc: 0.4987\n",
            "Epoch 3/25\n",
            "50000/50000 [==============================] - 10s 196us/step - loss: 1.3287 - acc: 0.5201 - val_loss: 1.2272 - val_acc: 0.5584\n",
            "Epoch 4/25\n",
            "50000/50000 [==============================] - 10s 195us/step - loss: 1.2051 - acc: 0.5656 - val_loss: 1.1391 - val_acc: 0.5925\n",
            "Epoch 5/25\n",
            "50000/50000 [==============================] - 10s 195us/step - loss: 1.1059 - acc: 0.6036 - val_loss: 1.0518 - val_acc: 0.6264\n",
            "Epoch 6/25\n",
            "50000/50000 [==============================] - 10s 205us/step - loss: 1.0197 - acc: 0.6358 - val_loss: 0.9709 - val_acc: 0.6583\n",
            "Epoch 7/25\n",
            "50000/50000 [==============================] - 10s 195us/step - loss: 0.9562 - acc: 0.6592 - val_loss: 0.9104 - val_acc: 0.6809\n",
            "Epoch 8/25\n",
            "50000/50000 [==============================] - 10s 194us/step - loss: 0.8881 - acc: 0.6846 - val_loss: 0.8781 - val_acc: 0.6901\n",
            "Epoch 9/25\n",
            "50000/50000 [==============================] - 10s 194us/step - loss: 0.8370 - acc: 0.7024 - val_loss: 0.8300 - val_acc: 0.7061\n",
            "Epoch 10/25\n",
            "50000/50000 [==============================] - 10s 194us/step - loss: 0.7940 - acc: 0.7188 - val_loss: 0.8072 - val_acc: 0.7166\n",
            "Epoch 11/25\n",
            "50000/50000 [==============================] - 10s 195us/step - loss: 0.7512 - acc: 0.7306 - val_loss: 0.7657 - val_acc: 0.7347\n",
            "Epoch 12/25\n",
            "50000/50000 [==============================] - 10s 195us/step - loss: 0.7090 - acc: 0.7473 - val_loss: 0.7384 - val_acc: 0.7395\n",
            "Epoch 13/25\n",
            "50000/50000 [==============================] - 10s 198us/step - loss: 0.6794 - acc: 0.7602 - val_loss: 0.7380 - val_acc: 0.7393\n",
            "Epoch 14/25\n",
            "50000/50000 [==============================] - 10s 206us/step - loss: 0.6475 - acc: 0.7700 - val_loss: 0.7216 - val_acc: 0.7476\n",
            "Epoch 15/25\n",
            "50000/50000 [==============================] - 10s 197us/step - loss: 0.6234 - acc: 0.7798 - val_loss: 0.6966 - val_acc: 0.7569\n",
            "Epoch 16/25\n",
            "50000/50000 [==============================] - 10s 195us/step - loss: 0.5947 - acc: 0.7902 - val_loss: 0.6883 - val_acc: 0.7572\n",
            "Epoch 17/25\n",
            "50000/50000 [==============================] - 10s 195us/step - loss: 0.5775 - acc: 0.7941 - val_loss: 0.6780 - val_acc: 0.7650\n",
            "Epoch 18/25\n",
            "50000/50000 [==============================] - 10s 194us/step - loss: 0.5522 - acc: 0.8036 - val_loss: 0.6688 - val_acc: 0.7669\n",
            "Epoch 19/25\n",
            "50000/50000 [==============================] - 10s 195us/step - loss: 0.5307 - acc: 0.8112 - val_loss: 0.6554 - val_acc: 0.7696\n",
            "Epoch 20/25\n",
            "50000/50000 [==============================] - 10s 194us/step - loss: 0.5123 - acc: 0.8195 - val_loss: 0.6436 - val_acc: 0.7749\n",
            "Epoch 21/25\n",
            "50000/50000 [==============================] - 10s 194us/step - loss: 0.4951 - acc: 0.8238 - val_loss: 0.6524 - val_acc: 0.7748\n",
            "Epoch 22/25\n",
            "50000/50000 [==============================] - 10s 200us/step - loss: 0.4849 - acc: 0.8252 - val_loss: 0.6361 - val_acc: 0.7798\n",
            "Epoch 23/25\n",
            "50000/50000 [==============================] - 10s 200us/step - loss: 0.4621 - acc: 0.8358 - val_loss: 0.6452 - val_acc: 0.7819\n",
            "Epoch 24/25\n",
            "50000/50000 [==============================] - 10s 195us/step - loss: 0.4511 - acc: 0.8392 - val_loss: 0.6347 - val_acc: 0.7812\n",
            "Epoch 25/25\n",
            "50000/50000 [==============================] - 10s 195us/step - loss: 0.4393 - acc: 0.8443 - val_loss: 0.6319 - val_acc: 0.7831\n",
            "_________________________________________________________________\n",
            "Layer (type)                 Output Shape              Param #   \n",
            "=================================================================\n",
            "conv2d_25 (Conv2D)           (None, 32, 32, 32)        896       \n",
            "_________________________________________________________________\n",
            "dropout_22 (Dropout)         (None, 32, 32, 32)        0         \n",
            "_________________________________________________________________\n",
            "conv2d_26 (Conv2D)           (None, 32, 32, 32)        9248      \n",
            "_________________________________________________________________\n",
            "max_pooling2d_13 (MaxPooling (None, 16, 16, 32)        0         \n",
            "_________________________________________________________________\n",
            "conv2d_27 (Conv2D)           (None, 16, 16, 64)        18496     \n",
            "_________________________________________________________________\n",
            "dropout_23 (Dropout)         (None, 16, 16, 64)        0         \n",
            "_________________________________________________________________\n",
            "conv2d_28 (Conv2D)           (None, 16, 16, 64)        36928     \n",
            "_________________________________________________________________\n",
            "max_pooling2d_14 (MaxPooling (None, 8, 8, 64)          0         \n",
            "_________________________________________________________________\n",
            "conv2d_29 (Conv2D)           (None, 8, 8, 128)         73856     \n",
            "_________________________________________________________________\n",
            "dropout_24 (Dropout)         (None, 8, 8, 128)         0         \n",
            "_________________________________________________________________\n",
            "conv2d_30 (Conv2D)           (None, 8, 8, 128)         147584    \n",
            "_________________________________________________________________\n",
            "max_pooling2d_15 (MaxPooling (None, 4, 4, 128)         0         \n",
            "_________________________________________________________________\n",
            "flatten_5 (Flatten)          (None, 2048)              0         \n",
            "_________________________________________________________________\n",
            "dropout_25 (Dropout)         (None, 2048)              0         \n",
            "_________________________________________________________________\n",
            "dense_11 (Dense)             (None, 1024)              2098176   \n",
            "_________________________________________________________________\n",
            "dropout_26 (Dropout)         (None, 1024)              0         \n",
            "_________________________________________________________________\n",
            "dense_12 (Dense)             (None, 512)               524800    \n",
            "_________________________________________________________________\n",
            "dropout_27 (Dropout)         (None, 512)               0         \n",
            "_________________________________________________________________\n",
            "dense_13 (Dense)             (None, 10)                5130      \n",
            "=================================================================\n",
            "Total params: 2,915,114\n",
            "Trainable params: 2,915,114\n",
            "Non-trainable params: 0\n",
            "_________________________________________________________________\n",
            "Epoch 1/50\n",
            "781/781 [==============================] - 24s 31ms/step - loss: 1.1677 - acc: 0.6102 - val_loss: 0.9259 - val_acc: 0.6760\n",
            "Epoch 2/50\n",
            "781/781 [==============================] - 23s 29ms/step - loss: 1.0158 - acc: 0.6525 - val_loss: 0.9014 - val_acc: 0.6938\n",
            "Epoch 3/50\n",
            "781/781 [==============================] - 26s 33ms/step - loss: 1.0110 - acc: 0.6592 - val_loss: 0.8332 - val_acc: 0.7318\n",
            "Epoch 4/50\n",
            "781/781 [==============================] - 23s 29ms/step - loss: 1.0108 - acc: 0.6620 - val_loss: 0.8866 - val_acc: 0.7088\n",
            "Epoch 5/50\n",
            "781/781 [==============================] - 23s 29ms/step - loss: 1.0086 - acc: 0.6636 - val_loss: 0.9879 - val_acc: 0.6584\n",
            "Epoch 6/50\n",
            "781/781 [==============================] - 24s 31ms/step - loss: 1.0052 - acc: 0.6659 - val_loss: 0.7983 - val_acc: 0.7373\n",
            "Epoch 7/50\n",
            "781/781 [==============================] - 22s 29ms/step - loss: 1.0045 - acc: 0.6713 - val_loss: 0.8962 - val_acc: 0.7103\n",
            "Epoch 8/50\n",
            "781/781 [==============================] - 23s 30ms/step - loss: 1.0161 - acc: 0.6665 - val_loss: 0.9880 - val_acc: 0.6850\n",
            "Epoch 9/50\n",
            "781/781 [==============================] - 24s 31ms/step - loss: 1.0420 - acc: 0.6595 - val_loss: 0.8145 - val_acc: 0.7415\n",
            "Epoch 10/50\n",
            "781/781 [==============================] - 23s 30ms/step - loss: 1.0516 - acc: 0.6587 - val_loss: 0.9178 - val_acc: 0.6938\n",
            "Epoch 11/50\n",
            "781/781 [==============================] - 23s 29ms/step - loss: 1.0654 - acc: 0.6569 - val_loss: 0.8915 - val_acc: 0.7019\n",
            "Epoch 12/50\n",
            "781/781 [==============================] - 23s 29ms/step - loss: 1.0948 - acc: 0.6504 - val_loss: 0.9677 - val_acc: 0.6957\n",
            "Epoch 13/50\n",
            "781/781 [==============================] - 24s 31ms/step - loss: 1.1114 - acc: 0.6439 - val_loss: 0.9480 - val_acc: 0.7099\n",
            "Epoch 14/50\n",
            "781/781 [==============================] - 23s 29ms/step - loss: 1.1223 - acc: 0.6452 - val_loss: 0.8985 - val_acc: 0.6905\n",
            "Epoch 15/50\n",
            "781/781 [==============================] - 23s 29ms/step - loss: 1.1283 - acc: 0.6418 - val_loss: 0.9003 - val_acc: 0.7099\n",
            "Epoch 16/50\n",
            "781/781 [==============================] - 24s 30ms/step - loss: 1.1426 - acc: 0.6390 - val_loss: 0.9479 - val_acc: 0.6997\n",
            "Epoch 17/50\n",
            "781/781 [==============================] - 24s 31ms/step - loss: 1.1724 - acc: 0.6269 - val_loss: 1.0986 - val_acc: 0.6401\n",
            "Epoch 18/50\n",
            "781/781 [==============================] - 22s 29ms/step - loss: 1.1972 - acc: 0.6269 - val_loss: 0.8742 - val_acc: 0.7261\n",
            "Epoch 19/50\n",
            "781/781 [==============================] - 22s 29ms/step - loss: 1.2155 - acc: 0.6195 - val_loss: 0.9755 - val_acc: 0.6890\n",
            "Epoch 20/50\n",
            "781/781 [==============================] - 24s 31ms/step - loss: 1.2303 - acc: 0.6123 - val_loss: 1.1187 - val_acc: 0.5937\n",
            "Epoch 21/50\n",
            "781/781 [==============================] - 23s 29ms/step - loss: 1.2365 - acc: 0.6114 - val_loss: 1.3695 - val_acc: 0.5003\n",
            "Epoch 22/50\n",
            "781/781 [==============================] - 23s 30ms/step - loss: 1.2689 - acc: 0.6071 - val_loss: 1.2289 - val_acc: 0.5524\n",
            "Epoch 23/50\n",
            "781/781 [==============================] - 24s 31ms/step - loss: 1.2996 - acc: 0.5928 - val_loss: 1.0568 - val_acc: 0.6733\n",
            "Epoch 24/50\n",
            "781/781 [==============================] - 23s 30ms/step - loss: 1.3243 - acc: 0.5841 - val_loss: 1.1351 - val_acc: 0.6534\n",
            "Epoch 25/50\n",
            "781/781 [==============================] - 23s 30ms/step - loss: 1.3668 - acc: 0.5753 - val_loss: 1.0789 - val_acc: 0.6483\n",
            "Epoch 26/50\n",
            "781/781 [==============================] - 23s 29ms/step - loss: 1.4037 - acc: 0.5672 - val_loss: 1.0871 - val_acc: 0.6630\n",
            "Epoch 27/50\n",
            "781/781 [==============================] - 25s 32ms/step - loss: 1.3937 - acc: 0.5615 - val_loss: 0.9937 - val_acc: 0.6901\n",
            "Epoch 28/50\n",
            "781/781 [==============================] - 23s 29ms/step - loss: 1.4420 - acc: 0.5525 - val_loss: 1.2055 - val_acc: 0.5716\n",
            "Epoch 29/50\n",
            "781/781 [==============================] - 23s 30ms/step - loss: 1.4770 - acc: 0.5394 - val_loss: 1.0833 - val_acc: 0.6090\n",
            "Epoch 30/50\n",
            "781/781 [==============================] - 26s 33ms/step - loss: 1.5153 - acc: 0.5310 - val_loss: 1.2361 - val_acc: 0.5592\n",
            "Epoch 31/50\n",
            "781/781 [==============================] - 23s 29ms/step - loss: 1.5420 - acc: 0.5152 - val_loss: 1.3826 - val_acc: 0.5366\n",
            "Epoch 32/50\n",
            "781/781 [==============================] - 23s 30ms/step - loss: 1.5874 - acc: 0.4973 - val_loss: 1.1911 - val_acc: 0.6156\n",
            "Epoch 33/50\n",
            "781/781 [==============================] - 24s 30ms/step - loss: 1.7172 - acc: 0.4657 - val_loss: 1.2849 - val_acc: 0.5719\n",
            "Epoch 34/50\n",
            "781/781 [==============================] - 24s 30ms/step - loss: 1.7759 - acc: 0.4605 - val_loss: 5.3919 - val_acc: 0.4516\n",
            "Epoch 35/50\n",
            "781/781 [==============================] - 23s 30ms/step - loss: 1.6956 - acc: 0.4650 - val_loss: 1.1103 - val_acc: 0.6621\n",
            "Epoch 36/50\n",
            "781/781 [==============================] - 23s 29ms/step - loss: 1.7777 - acc: 0.4345 - val_loss: 1.4462 - val_acc: 0.5148\n",
            "Epoch 37/50\n",
            "781/781 [==============================] - 24s 31ms/step - loss: 1.7567 - acc: 0.4405 - val_loss: 1.3208 - val_acc: 0.5711\n",
            "Epoch 38/50\n",
            "781/781 [==============================] - 22s 29ms/step - loss: 1.7760 - acc: 0.4280 - val_loss: 1.4564 - val_acc: 0.5070\n",
            "Epoch 39/50\n",
            "781/781 [==============================] - 22s 29ms/step - loss: 2.0604 - acc: 0.3919 - val_loss: 1.4555 - val_acc: 0.4606\n",
            "Epoch 40/50\n",
            "781/781 [==============================] - 23s 30ms/step - loss: 2.0323 - acc: 0.3819 - val_loss: 1.4228 - val_acc: 0.4749\n",
            "Epoch 41/50\n",
            "781/781 [==============================] - 23s 30ms/step - loss: 1.9997 - acc: 0.3579 - val_loss: 10.4153 - val_acc: 0.2752\n",
            "Epoch 42/50\n",
            "781/781 [==============================] - 23s 29ms/step - loss: 2.1594 - acc: 0.3233 - val_loss: 1.6716 - val_acc: 0.3755\n",
            "Epoch 43/50\n",
            "781/781 [==============================] - 25s 32ms/step - loss: 2.0689 - acc: 0.3290 - val_loss: 1.6168 - val_acc: 0.4241\n",
            "Epoch 44/50\n",
            "781/781 [==============================] - 25s 31ms/step - loss: 2.1078 - acc: 0.2960 - val_loss: 2.1445 - val_acc: 0.1660\n",
            "Epoch 45/50\n",
            "781/781 [==============================] - 23s 29ms/step - loss: 2.1058 - acc: 0.2795 - val_loss: 1.6985 - val_acc: 0.3639\n",
            "Epoch 46/50\n",
            "781/781 [==============================] - 23s 29ms/step - loss: 2.3262 - acc: 0.2529 - val_loss: 6.7087 - val_acc: 0.2600\n",
            "Epoch 47/50\n",
            "781/781 [==============================] - 24s 31ms/step - loss: 2.1503 - acc: 0.2514 - val_loss: 1.8074 - val_acc: 0.2928\n",
            "Epoch 48/50\n",
            "781/781 [==============================] - 24s 30ms/step - loss: 2.3086 - acc: 0.2075 - val_loss: 1.9591 - val_acc: 0.2279\n",
            "Epoch 49/50\n",
            "781/781 [==============================] - 23s 29ms/step - loss: 2.1708 - acc: 0.2098 - val_loss: 1.6764 - val_acc: 0.3052\n",
            "Epoch 50/50\n",
            "781/781 [==============================] - 23s 29ms/step - loss: 2.1722 - acc: 0.2181 - val_loss: 1.9184 - val_acc: 0.2059\n"
          ],
          "name": "stdout"
        },
        {
          "output_type": "execute_result",
          "data": {
            "text/plain": [
              "<keras.callbacks.History at 0x7f3680f312b0>"
            ]
          },
          "metadata": {
            "tags": []
          },
          "execution_count": 26
        }
      ]
    },
    {
      "cell_type": "markdown",
      "metadata": {
        "id": "lnyWaCm3ygCU",
        "colab_type": "text"
      },
      "source": [
        "\n",
        "### 5.2 Model Evaluation of Image Augmented CNN model with deeper topology"
      ]
    },
    {
      "cell_type": "code",
      "metadata": {
        "id": "6nBRms-y5D_D",
        "colab_type": "code",
        "outputId": "9a438def-cc61-441e-96f3-8cf14f07c3ef",
        "colab": {
          "base_uri": "https://localhost:8080/",
          "height": 836
        }
      },
      "source": [
        "print(model.summary())\n",
        "\n",
        "scores = model.evaluate(X_test,y_test)\n",
        "print('CNN error rate :', 100 - scores[1]*100)\n",
        "print('CNN model accuracy :', scores[1]*100)"
      ],
      "execution_count": 0,
      "outputs": [
        {
          "output_type": "stream",
          "text": [
            "_________________________________________________________________\n",
            "Layer (type)                 Output Shape              Param #   \n",
            "=================================================================\n",
            "conv2d_25 (Conv2D)           (None, 32, 32, 32)        896       \n",
            "_________________________________________________________________\n",
            "dropout_22 (Dropout)         (None, 32, 32, 32)        0         \n",
            "_________________________________________________________________\n",
            "conv2d_26 (Conv2D)           (None, 32, 32, 32)        9248      \n",
            "_________________________________________________________________\n",
            "max_pooling2d_13 (MaxPooling (None, 16, 16, 32)        0         \n",
            "_________________________________________________________________\n",
            "conv2d_27 (Conv2D)           (None, 16, 16, 64)        18496     \n",
            "_________________________________________________________________\n",
            "dropout_23 (Dropout)         (None, 16, 16, 64)        0         \n",
            "_________________________________________________________________\n",
            "conv2d_28 (Conv2D)           (None, 16, 16, 64)        36928     \n",
            "_________________________________________________________________\n",
            "max_pooling2d_14 (MaxPooling (None, 8, 8, 64)          0         \n",
            "_________________________________________________________________\n",
            "conv2d_29 (Conv2D)           (None, 8, 8, 128)         73856     \n",
            "_________________________________________________________________\n",
            "dropout_24 (Dropout)         (None, 8, 8, 128)         0         \n",
            "_________________________________________________________________\n",
            "conv2d_30 (Conv2D)           (None, 8, 8, 128)         147584    \n",
            "_________________________________________________________________\n",
            "max_pooling2d_15 (MaxPooling (None, 4, 4, 128)         0         \n",
            "_________________________________________________________________\n",
            "flatten_5 (Flatten)          (None, 2048)              0         \n",
            "_________________________________________________________________\n",
            "dropout_25 (Dropout)         (None, 2048)              0         \n",
            "_________________________________________________________________\n",
            "dense_11 (Dense)             (None, 1024)              2098176   \n",
            "_________________________________________________________________\n",
            "dropout_26 (Dropout)         (None, 1024)              0         \n",
            "_________________________________________________________________\n",
            "dense_12 (Dense)             (None, 512)               524800    \n",
            "_________________________________________________________________\n",
            "dropout_27 (Dropout)         (None, 512)               0         \n",
            "_________________________________________________________________\n",
            "dense_13 (Dense)             (None, 10)                5130      \n",
            "=================================================================\n",
            "Total params: 2,915,114\n",
            "Trainable params: 2,915,114\n",
            "Non-trainable params: 0\n",
            "_________________________________________________________________\n",
            "None\n",
            "10000/10000 [==============================] - 1s 100us/step\n",
            "CNN error rate : 79.41\n",
            "CNN model accuracy : 20.59\n"
          ],
          "name": "stdout"
        }
      ]
    },
    {
      "cell_type": "code",
      "metadata": {
        "id": "RzZgHyu_5DyI",
        "colab_type": "code",
        "colab": {}
      },
      "source": [
        ""
      ],
      "execution_count": 0,
      "outputs": []
    },
    {
      "cell_type": "code",
      "metadata": {
        "id": "_amfkzFyygEu",
        "colab_type": "code",
        "colab": {}
      },
      "source": [
        ""
      ],
      "execution_count": 0,
      "outputs": []
    },
    {
      "cell_type": "code",
      "metadata": {
        "id": "E8-4awpiygG5",
        "colab_type": "code",
        "colab": {}
      },
      "source": [
        ""
      ],
      "execution_count": 0,
      "outputs": []
    },
    {
      "cell_type": "code",
      "metadata": {
        "id": "b74AZCTgygJS",
        "colab_type": "code",
        "colab": {}
      },
      "source": [
        ""
      ],
      "execution_count": 0,
      "outputs": []
    },
    {
      "cell_type": "code",
      "metadata": {
        "id": "cjl8-BYQygLp",
        "colab_type": "code",
        "colab": {}
      },
      "source": [
        ""
      ],
      "execution_count": 0,
      "outputs": []
    }
  ]
}
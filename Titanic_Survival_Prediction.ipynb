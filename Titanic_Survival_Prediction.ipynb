{
 "cells": [
  {
   "cell_type": "markdown",
   "metadata": {
    "colab_type": "text",
    "id": "st9SFUZU40qZ"
   },
   "source": [
    "# Titanic: Machine Learning from Disaster\n",
    "\n",
    "### Predict the survival rate of passengers"
   ]
  },
  {
   "cell_type": "markdown",
   "metadata": {
    "colab_type": "text",
    "id": "10W4MeTw4iIk"
   },
   "source": [
    "### Data Dictionary :\n",
    "\n",
    "\n",
    "- **Survival :\t0 = No, 1 = Yes**\n",
    "\n",
    "- **pclass (Ticket class) :\t1 = 1st, 2 = 2nd, 3 = 3rd**\n",
    "\n",
    "-  **sex : Sex**\n",
    "\n",
    "- **Age :\tAge in years**\t\n",
    "\n",
    "-  **sibsp\t: # of siblings / spouses aboard the Titanic**\n",
    "\n",
    "- **parch : \t# of parents / children aboard the Titanic**\t\n",
    "\n",
    "- **ticket : \tTicket number**\t\n",
    "\n",
    "- **fare :\tPassenger fare**\n",
    "\n",
    "- **cabin :\tCabin number**\t\n",
    "\n",
    "- **embarked : \tPort of Embarkation\tC = Cherbourg, Q = Queenstown, S = Southampton**"
   ]
  },
  {
   "cell_type": "markdown",
   "metadata": {
    "colab_type": "text",
    "id": "jk9vQqzD9AEh"
   },
   "source": [
    "### 1 Importing libraries and dataset"
   ]
  },
  {
   "cell_type": "code",
   "execution_count": 0,
   "metadata": {
    "colab": {},
    "colab_type": "code",
    "id": "S-cPzpoq4iGJ"
   },
   "outputs": [],
   "source": [
    "import pandas as pd\n",
    "import numpy as np\n",
    "import matplotlib.pyplot as plt\n",
    "from matplotlib import style\n",
    "import seaborn as sns\n",
    "sns.set()\n",
    "from sklearn.preprocessing import StandardScaler,LabelEncoder\n",
    "from sklearn.model_selection import train_test_split,cross_val_score, KFold,GridSearchCV\n",
    "from sklearn.linear_model import LogisticRegression, SGDClassifier\n",
    "from sklearn.ensemble import RandomForestClassifier\n",
    "from sklearn.tree import DecisionTreeClassifier\n",
    "from sklearn.svm import SVC, LinearSVC\n",
    "from sklearn.naive_bayes import GaussianNB\n",
    "from sklearn.neighbors import KNeighborsClassifier\n",
    "from sklearn.metrics import classification_report, confusion_matrix, accuracy_score"
   ]
  },
  {
   "cell_type": "code",
   "execution_count": 0,
   "metadata": {
    "colab": {},
    "colab_type": "code",
    "id": "P2ENn2HilYVA"
   },
   "outputs": [],
   "source": [
    "import warnings\n",
    "warnings.filterwarnings('ignore')"
   ]
  },
  {
   "cell_type": "code",
   "execution_count": 0,
   "metadata": {
    "colab": {},
    "colab_type": "code",
    "id": "P-2ZxZRB4iDb"
   },
   "outputs": [],
   "source": [
    "# importing dataset\n",
    "\n",
    "train_df = pd.read_csv('train.csv')\n",
    "test_df = pd.read_csv('test.csv')"
   ]
  },
  {
   "cell_type": "markdown",
   "metadata": {
    "colab_type": "text",
    "id": "c91CpmaO-418"
   },
   "source": [
    "### 2 EDA"
   ]
  },
  {
   "cell_type": "code",
   "execution_count": 3,
   "metadata": {
    "colab": {
     "base_uri": "https://localhost:8080/",
     "height": 263
    },
    "colab_type": "code",
    "id": "nIvwPVBr4iBP",
    "outputId": "f7c818e5-fd0e-4918-8cc1-54069db9a2e6"
   },
   "outputs": [
    {
     "data": {
      "text/html": [
       "<div>\n",
       "<style scoped>\n",
       "    .dataframe tbody tr th:only-of-type {\n",
       "        vertical-align: middle;\n",
       "    }\n",
       "\n",
       "    .dataframe tbody tr th {\n",
       "        vertical-align: top;\n",
       "    }\n",
       "\n",
       "    .dataframe thead th {\n",
       "        text-align: right;\n",
       "    }\n",
       "</style>\n",
       "<table border=\"1\" class=\"dataframe\">\n",
       "  <thead>\n",
       "    <tr style=\"text-align: right;\">\n",
       "      <th></th>\n",
       "      <th>PassengerId</th>\n",
       "      <th>Survived</th>\n",
       "      <th>Pclass</th>\n",
       "      <th>Name</th>\n",
       "      <th>Sex</th>\n",
       "      <th>Age</th>\n",
       "      <th>SibSp</th>\n",
       "      <th>Parch</th>\n",
       "      <th>Ticket</th>\n",
       "      <th>Fare</th>\n",
       "      <th>Cabin</th>\n",
       "      <th>Embarked</th>\n",
       "    </tr>\n",
       "  </thead>\n",
       "  <tbody>\n",
       "    <tr>\n",
       "      <th>0</th>\n",
       "      <td>1</td>\n",
       "      <td>0</td>\n",
       "      <td>3</td>\n",
       "      <td>Braund, Mr. Owen Harris</td>\n",
       "      <td>male</td>\n",
       "      <td>22.0</td>\n",
       "      <td>1</td>\n",
       "      <td>0</td>\n",
       "      <td>A/5 21171</td>\n",
       "      <td>7.2500</td>\n",
       "      <td>NaN</td>\n",
       "      <td>S</td>\n",
       "    </tr>\n",
       "    <tr>\n",
       "      <th>1</th>\n",
       "      <td>2</td>\n",
       "      <td>1</td>\n",
       "      <td>1</td>\n",
       "      <td>Cumings, Mrs. John Bradley (Florence Briggs Th...</td>\n",
       "      <td>female</td>\n",
       "      <td>38.0</td>\n",
       "      <td>1</td>\n",
       "      <td>0</td>\n",
       "      <td>PC 17599</td>\n",
       "      <td>71.2833</td>\n",
       "      <td>C85</td>\n",
       "      <td>C</td>\n",
       "    </tr>\n",
       "    <tr>\n",
       "      <th>2</th>\n",
       "      <td>3</td>\n",
       "      <td>1</td>\n",
       "      <td>3</td>\n",
       "      <td>Heikkinen, Miss. Laina</td>\n",
       "      <td>female</td>\n",
       "      <td>26.0</td>\n",
       "      <td>0</td>\n",
       "      <td>0</td>\n",
       "      <td>STON/O2. 3101282</td>\n",
       "      <td>7.9250</td>\n",
       "      <td>NaN</td>\n",
       "      <td>S</td>\n",
       "    </tr>\n",
       "    <tr>\n",
       "      <th>3</th>\n",
       "      <td>4</td>\n",
       "      <td>1</td>\n",
       "      <td>1</td>\n",
       "      <td>Futrelle, Mrs. Jacques Heath (Lily May Peel)</td>\n",
       "      <td>female</td>\n",
       "      <td>35.0</td>\n",
       "      <td>1</td>\n",
       "      <td>0</td>\n",
       "      <td>113803</td>\n",
       "      <td>53.1000</td>\n",
       "      <td>C123</td>\n",
       "      <td>S</td>\n",
       "    </tr>\n",
       "    <tr>\n",
       "      <th>4</th>\n",
       "      <td>5</td>\n",
       "      <td>0</td>\n",
       "      <td>3</td>\n",
       "      <td>Allen, Mr. William Henry</td>\n",
       "      <td>male</td>\n",
       "      <td>35.0</td>\n",
       "      <td>0</td>\n",
       "      <td>0</td>\n",
       "      <td>373450</td>\n",
       "      <td>8.0500</td>\n",
       "      <td>NaN</td>\n",
       "      <td>S</td>\n",
       "    </tr>\n",
       "  </tbody>\n",
       "</table>\n",
       "</div>"
      ],
      "text/plain": [
       "   PassengerId  Survived  Pclass  ...     Fare Cabin  Embarked\n",
       "0            1         0       3  ...   7.2500   NaN         S\n",
       "1            2         1       1  ...  71.2833   C85         C\n",
       "2            3         1       3  ...   7.9250   NaN         S\n",
       "3            4         1       1  ...  53.1000  C123         S\n",
       "4            5         0       3  ...   8.0500   NaN         S\n",
       "\n",
       "[5 rows x 12 columns]"
      ]
     },
     "execution_count": 3,
     "metadata": {
      "tags": []
     },
     "output_type": "execute_result"
    }
   ],
   "source": [
    "train_df.head()"
   ]
  },
  {
   "cell_type": "code",
   "execution_count": 4,
   "metadata": {
    "colab": {
     "base_uri": "https://localhost:8080/",
     "height": 301
    },
    "colab_type": "code",
    "id": "Ln7EP1_y4h-7",
    "outputId": "b61bf225-349e-4fd1-87b6-c907718af096"
   },
   "outputs": [
    {
     "name": "stdout",
     "output_type": "stream",
     "text": [
      "<class 'pandas.core.frame.DataFrame'>\n",
      "RangeIndex: 891 entries, 0 to 890\n",
      "Data columns (total 12 columns):\n",
      "PassengerId    891 non-null int64\n",
      "Survived       891 non-null int64\n",
      "Pclass         891 non-null int64\n",
      "Name           891 non-null object\n",
      "Sex            891 non-null object\n",
      "Age            714 non-null float64\n",
      "SibSp          891 non-null int64\n",
      "Parch          891 non-null int64\n",
      "Ticket         891 non-null object\n",
      "Fare           891 non-null float64\n",
      "Cabin          204 non-null object\n",
      "Embarked       889 non-null object\n",
      "dtypes: float64(2), int64(5), object(5)\n",
      "memory usage: 83.6+ KB\n"
     ]
    }
   ],
   "source": [
    "train_df.info()"
   ]
  },
  {
   "cell_type": "markdown",
   "metadata": {
    "colab_type": "text",
    "id": "R7UmbjUUAEZH"
   },
   "source": [
    "- **Sex and Cabin seem to have lots of missing values**"
   ]
  },
  {
   "cell_type": "code",
   "execution_count": 5,
   "metadata": {
    "colab": {
     "base_uri": "https://localhost:8080/",
     "height": 286
    },
    "colab_type": "code",
    "id": "1IVDL__M4h8j",
    "outputId": "469e9d90-9142-4a8c-db9f-2fc4d1ec813e"
   },
   "outputs": [
    {
     "data": {
      "text/html": [
       "<div>\n",
       "<style scoped>\n",
       "    .dataframe tbody tr th:only-of-type {\n",
       "        vertical-align: middle;\n",
       "    }\n",
       "\n",
       "    .dataframe tbody tr th {\n",
       "        vertical-align: top;\n",
       "    }\n",
       "\n",
       "    .dataframe thead th {\n",
       "        text-align: right;\n",
       "    }\n",
       "</style>\n",
       "<table border=\"1\" class=\"dataframe\">\n",
       "  <thead>\n",
       "    <tr style=\"text-align: right;\">\n",
       "      <th></th>\n",
       "      <th>PassengerId</th>\n",
       "      <th>Survived</th>\n",
       "      <th>Pclass</th>\n",
       "      <th>Age</th>\n",
       "      <th>SibSp</th>\n",
       "      <th>Parch</th>\n",
       "      <th>Fare</th>\n",
       "    </tr>\n",
       "  </thead>\n",
       "  <tbody>\n",
       "    <tr>\n",
       "      <th>count</th>\n",
       "      <td>891.000000</td>\n",
       "      <td>891.000000</td>\n",
       "      <td>891.000000</td>\n",
       "      <td>714.000000</td>\n",
       "      <td>891.000000</td>\n",
       "      <td>891.000000</td>\n",
       "      <td>891.000000</td>\n",
       "    </tr>\n",
       "    <tr>\n",
       "      <th>mean</th>\n",
       "      <td>446.000000</td>\n",
       "      <td>0.383838</td>\n",
       "      <td>2.308642</td>\n",
       "      <td>29.699118</td>\n",
       "      <td>0.523008</td>\n",
       "      <td>0.381594</td>\n",
       "      <td>32.204208</td>\n",
       "    </tr>\n",
       "    <tr>\n",
       "      <th>std</th>\n",
       "      <td>257.353842</td>\n",
       "      <td>0.486592</td>\n",
       "      <td>0.836071</td>\n",
       "      <td>14.526497</td>\n",
       "      <td>1.102743</td>\n",
       "      <td>0.806057</td>\n",
       "      <td>49.693429</td>\n",
       "    </tr>\n",
       "    <tr>\n",
       "      <th>min</th>\n",
       "      <td>1.000000</td>\n",
       "      <td>0.000000</td>\n",
       "      <td>1.000000</td>\n",
       "      <td>0.420000</td>\n",
       "      <td>0.000000</td>\n",
       "      <td>0.000000</td>\n",
       "      <td>0.000000</td>\n",
       "    </tr>\n",
       "    <tr>\n",
       "      <th>25%</th>\n",
       "      <td>223.500000</td>\n",
       "      <td>0.000000</td>\n",
       "      <td>2.000000</td>\n",
       "      <td>20.125000</td>\n",
       "      <td>0.000000</td>\n",
       "      <td>0.000000</td>\n",
       "      <td>7.910400</td>\n",
       "    </tr>\n",
       "    <tr>\n",
       "      <th>50%</th>\n",
       "      <td>446.000000</td>\n",
       "      <td>0.000000</td>\n",
       "      <td>3.000000</td>\n",
       "      <td>28.000000</td>\n",
       "      <td>0.000000</td>\n",
       "      <td>0.000000</td>\n",
       "      <td>14.454200</td>\n",
       "    </tr>\n",
       "    <tr>\n",
       "      <th>75%</th>\n",
       "      <td>668.500000</td>\n",
       "      <td>1.000000</td>\n",
       "      <td>3.000000</td>\n",
       "      <td>38.000000</td>\n",
       "      <td>1.000000</td>\n",
       "      <td>0.000000</td>\n",
       "      <td>31.000000</td>\n",
       "    </tr>\n",
       "    <tr>\n",
       "      <th>max</th>\n",
       "      <td>891.000000</td>\n",
       "      <td>1.000000</td>\n",
       "      <td>3.000000</td>\n",
       "      <td>80.000000</td>\n",
       "      <td>8.000000</td>\n",
       "      <td>6.000000</td>\n",
       "      <td>512.329200</td>\n",
       "    </tr>\n",
       "  </tbody>\n",
       "</table>\n",
       "</div>"
      ],
      "text/plain": [
       "       PassengerId    Survived      Pclass  ...       SibSp       Parch        Fare\n",
       "count   891.000000  891.000000  891.000000  ...  891.000000  891.000000  891.000000\n",
       "mean    446.000000    0.383838    2.308642  ...    0.523008    0.381594   32.204208\n",
       "std     257.353842    0.486592    0.836071  ...    1.102743    0.806057   49.693429\n",
       "min       1.000000    0.000000    1.000000  ...    0.000000    0.000000    0.000000\n",
       "25%     223.500000    0.000000    2.000000  ...    0.000000    0.000000    7.910400\n",
       "50%     446.000000    0.000000    3.000000  ...    0.000000    0.000000   14.454200\n",
       "75%     668.500000    1.000000    3.000000  ...    1.000000    0.000000   31.000000\n",
       "max     891.000000    1.000000    3.000000  ...    8.000000    6.000000  512.329200\n",
       "\n",
       "[8 rows x 7 columns]"
      ]
     },
     "execution_count": 5,
     "metadata": {
      "tags": []
     },
     "output_type": "execute_result"
    }
   ],
   "source": [
    "train_df.describe()"
   ]
  },
  {
   "cell_type": "markdown",
   "metadata": {
    "colab_type": "text",
    "id": "JXHRqmMN4h6K"
   },
   "source": [
    "- **We can see that nearly 38 % of the people in train dataset survived**"
   ]
  },
  {
   "cell_type": "code",
   "execution_count": 6,
   "metadata": {
    "colab": {
     "base_uri": "https://localhost:8080/",
     "height": 234
    },
    "colab_type": "code",
    "id": "YBVFJBbs4h3e",
    "outputId": "b129087c-0a7e-494e-b9bd-d5d5f01dbb3d"
   },
   "outputs": [
    {
     "data": {
      "text/plain": [
       "PassengerId      0\n",
       "Survived         0\n",
       "Pclass           0\n",
       "Name             0\n",
       "Sex              0\n",
       "Age            177\n",
       "SibSp            0\n",
       "Parch            0\n",
       "Ticket           0\n",
       "Fare             0\n",
       "Cabin          687\n",
       "Embarked         2\n",
       "dtype: int64"
      ]
     },
     "execution_count": 6,
     "metadata": {
      "tags": []
     },
     "output_type": "execute_result"
    }
   ],
   "source": [
    "# Checking for missing values\n",
    "\n",
    "train_df.isnull().sum()"
   ]
  },
  {
   "cell_type": "code",
   "execution_count": 7,
   "metadata": {
    "colab": {
     "base_uri": "https://localhost:8080/",
     "height": 345
    },
    "colab_type": "code",
    "id": "ZuuwREXN4h0x",
    "outputId": "3dd55a65-e4b4-4c8e-bfd3-1ea080aa9592"
   },
   "outputs": [
    {
     "data": {
      "text/html": [
       "<div>\n",
       "<style scoped>\n",
       "    .dataframe tbody tr th:only-of-type {\n",
       "        vertical-align: middle;\n",
       "    }\n",
       "\n",
       "    .dataframe tbody tr th {\n",
       "        vertical-align: top;\n",
       "    }\n",
       "\n",
       "    .dataframe thead th {\n",
       "        text-align: right;\n",
       "    }\n",
       "</style>\n",
       "<table border=\"1\" class=\"dataframe\">\n",
       "  <thead>\n",
       "    <tr style=\"text-align: right;\">\n",
       "      <th></th>\n",
       "      <th>Total</th>\n",
       "      <th>%</th>\n",
       "    </tr>\n",
       "  </thead>\n",
       "  <tbody>\n",
       "    <tr>\n",
       "      <th>Cabin</th>\n",
       "      <td>687</td>\n",
       "      <td>77.1</td>\n",
       "    </tr>\n",
       "    <tr>\n",
       "      <th>Age</th>\n",
       "      <td>177</td>\n",
       "      <td>19.9</td>\n",
       "    </tr>\n",
       "    <tr>\n",
       "      <th>Embarked</th>\n",
       "      <td>2</td>\n",
       "      <td>0.2</td>\n",
       "    </tr>\n",
       "    <tr>\n",
       "      <th>Fare</th>\n",
       "      <td>0</td>\n",
       "      <td>0.0</td>\n",
       "    </tr>\n",
       "    <tr>\n",
       "      <th>Ticket</th>\n",
       "      <td>0</td>\n",
       "      <td>0.0</td>\n",
       "    </tr>\n",
       "    <tr>\n",
       "      <th>Parch</th>\n",
       "      <td>0</td>\n",
       "      <td>0.0</td>\n",
       "    </tr>\n",
       "    <tr>\n",
       "      <th>SibSp</th>\n",
       "      <td>0</td>\n",
       "      <td>0.0</td>\n",
       "    </tr>\n",
       "    <tr>\n",
       "      <th>Sex</th>\n",
       "      <td>0</td>\n",
       "      <td>0.0</td>\n",
       "    </tr>\n",
       "    <tr>\n",
       "      <th>Name</th>\n",
       "      <td>0</td>\n",
       "      <td>0.0</td>\n",
       "    </tr>\n",
       "    <tr>\n",
       "      <th>Pclass</th>\n",
       "      <td>0</td>\n",
       "      <td>0.0</td>\n",
       "    </tr>\n",
       "  </tbody>\n",
       "</table>\n",
       "</div>"
      ],
      "text/plain": [
       "          Total     %\n",
       "Cabin       687  77.1\n",
       "Age         177  19.9\n",
       "Embarked      2   0.2\n",
       "Fare          0   0.0\n",
       "Ticket        0   0.0\n",
       "Parch         0   0.0\n",
       "SibSp         0   0.0\n",
       "Sex           0   0.0\n",
       "Name          0   0.0\n",
       "Pclass        0   0.0"
      ]
     },
     "execution_count": 7,
     "metadata": {
      "tags": []
     },
     "output_type": "execute_result"
    }
   ],
   "source": [
    "# Checking out percentage of missing data\n",
    "\n",
    "total = train_df.isnull().sum().sort_values(ascending = False)\n",
    "\n",
    "percent_1 = train_df.isnull().sum() / train_df.isnull().count()*100\n",
    "\n",
    "percent_2 = (round(percent_1, 1)).sort_values(ascending = False)\n",
    "\n",
    "missing_data = pd.concat([total, percent_2], axis = 1, keys = ['Total', '%'])\n",
    "\n",
    "missing_data.head(10)"
   ]
  },
  {
   "cell_type": "code",
   "execution_count": 8,
   "metadata": {
    "colab": {
     "base_uri": "https://localhost:8080/",
     "height": 67
    },
    "colab_type": "code",
    "id": "HopVEQTzC879",
    "outputId": "7a7ae1e4-43f8-4418-f037-dc873985a578"
   },
   "outputs": [
    {
     "data": {
      "text/plain": [
       "Index(['PassengerId', 'Survived', 'Pclass', 'Name', 'Sex', 'Age', 'SibSp',\n",
       "       'Parch', 'Ticket', 'Fare', 'Cabin', 'Embarked'],\n",
       "      dtype='object')"
      ]
     },
     "execution_count": 8,
     "metadata": {
      "tags": []
     },
     "output_type": "execute_result"
    }
   ],
   "source": [
    "train_df.columns"
   ]
  },
  {
   "cell_type": "code",
   "execution_count": 9,
   "metadata": {
    "colab": {
     "base_uri": "https://localhost:8080/",
     "height": 84
    },
    "colab_type": "code",
    "id": "xVk5JhqIDdce",
    "outputId": "f81dbbaf-42d4-42e3-af7c-652b47ebdaf4"
   },
   "outputs": [
    {
     "data": {
      "text/plain": [
       "Sex\n",
       "female    314\n",
       "male      577\n",
       "dtype: int64"
      ]
     },
     "execution_count": 9,
     "metadata": {
      "tags": []
     },
     "output_type": "execute_result"
    }
   ],
   "source": [
    "train_df.groupby('Sex').size()"
   ]
  },
  {
   "cell_type": "code",
   "execution_count": 10,
   "metadata": {
    "colab": {
     "base_uri": "https://localhost:8080/",
     "height": 84
    },
    "colab_type": "code",
    "id": "T1judzr3C80b",
    "outputId": "7d4149b0-2923-4668-e7fa-954a797e1e7b"
   },
   "outputs": [
    {
     "data": {
      "text/plain": [
       "Survived\n",
       "0    549\n",
       "1    342\n",
       "dtype: int64"
      ]
     },
     "execution_count": 10,
     "metadata": {
      "tags": []
     },
     "output_type": "execute_result"
    }
   ],
   "source": [
    "train_df.groupby('Survived').size()"
   ]
  },
  {
   "cell_type": "markdown",
   "metadata": {
    "colab_type": "text",
    "id": "k7CTYO_xCr5G"
   },
   "source": [
    "### 3 Univariate and Bivariate Analysis"
   ]
  },
  {
   "cell_type": "markdown",
   "metadata": {
    "colab_type": "text",
    "id": "H_f7pxtLJBVL"
   },
   "source": [
    "#### 3.1 Relation of survival rate between Age and Sex"
   ]
  },
  {
   "cell_type": "code",
   "execution_count": 11,
   "metadata": {
    "colab": {
     "base_uri": "https://localhost:8080/",
     "height": 301
    },
    "colab_type": "code",
    "id": "UMaXWVaP4hyZ",
    "outputId": "9d885f3d-eeaa-4cfe-d79c-88c8e1678409"
   },
   "outputs": [
    {
     "data": {
      "image/png": "[encoded data removed]",
      "text/plain": [
       "<Figure size 720x288 with 2 Axes>"
      ]
     },
     "metadata": {
      "tags": []
     },
     "output_type": "display_data"
    }
   ],
   "source": [
    "survived = 'survived'\n",
    "not_survived = 'not survived'\n",
    "\n",
    "fig,axes = plt.subplots(nrows = 1, ncols = 2, figsize = (10,4))\n",
    "\n",
    "women = train_df[train_df['Sex'] == 'female']\n",
    "men = train_df[train_df['Sex'] == 'male']\n",
    "\n",
    "ax = sns.distplot(women[women['Survived'] == 1].Age.dropna(), bins = 18, \n",
    "                  label = survived, ax = axes[0], kde = False)\n",
    "\n",
    "ax = sns.distplot(women[women['Survived'] == 0].Age.dropna(), bins = 40, \n",
    "                  label = not_survived, ax = axes[0], kde = False)\n",
    "\n",
    "ax.legend()\n",
    "ax.set_title('Female')\n",
    "\n",
    "ax = sns.distplot(men[men['Survived'] == 1].Age.dropna(), bins = 18, \n",
    "                  label = survived, ax = axes[1], kde = False)\n",
    "\n",
    "ax = sns.distplot(men[men['Survived'] == 0].Age.dropna(), bins = 40, \n",
    "                  label = not_survived, ax = axes[1], kde = False)\n",
    "\n",
    "ax.legend()\n",
    "ax.set_title('Male');"
   ]
  },
  {
   "cell_type": "markdown",
   "metadata": {
    "colab_type": "text",
    "id": "DD8d9G9Q4hrI"
   },
   "source": [
    "- **We can see that men have a higher probability of survival when ther are between 18 to 30 years old**\n",
    "- **For women, they have  a higher overall survival rate with mainly ages between 13 to 40** "
   ]
  },
  {
   "cell_type": "markdown",
   "metadata": {
    "colab_type": "text",
    "id": "jezou8T3JNJL"
   },
   "source": [
    "#### 3.2 Relation of survival rate between Embarked, Pclass and Sex"
   ]
  },
  {
   "cell_type": "code",
   "execution_count": 12,
   "metadata": {
    "colab": {
     "base_uri": "https://localhost:8080/",
     "height": 977
    },
    "colab_type": "code",
    "id": "WEyN9vFL4ho3",
    "outputId": "18b1e0b6-0f81-45d9-8ced-7bbeadca0dc9"
   },
   "outputs": [
    {
     "data": {
      "image/png": "[encoded data removed]",
      "text/plain": [
       "<Figure size 401.975x972 with 3 Axes>"
      ]
     },
     "metadata": {
      "tags": []
     },
     "output_type": "display_data"
    }
   ],
   "source": [
    "Facetgrid = sns.FacetGrid(train_df, row = 'Embarked', height = 4.5)\n",
    "Facetgrid.map(sns.pointplot, 'Pclass', 'Survived', 'Sex', order = None, hue_order = None)\n",
    "Facetgrid.add_legend();\n"
   ]
  },
  {
   "cell_type": "markdown",
   "metadata": {
    "colab_type": "text",
    "id": "BWjQVNLE4hmd"
   },
   "source": [
    "- **Women who boarded from Port Q and Port S have a higher survival rate**\n",
    "- **Men who boarded from Port C seem to have higher survival rates**\n",
    "- **Embarked seems to be correlated with Survival depending on gender**"
   ]
  },
  {
   "cell_type": "markdown",
   "metadata": {
    "colab_type": "text",
    "id": "jjQVgluGLX9A"
   },
   "source": [
    "#### 3.3 Relation between Pclass and Survival"
   ]
  },
  {
   "cell_type": "code",
   "execution_count": 13,
   "metadata": {
    "colab": {
     "base_uri": "https://localhost:8080/",
     "height": 341
    },
    "colab_type": "code",
    "id": "J5VYzuDL4hkM",
    "outputId": "3650fc0c-0897-41ea-e2e1-e6da3e45bbaf"
   },
   "outputs": [
    {
     "name": "stdout",
     "output_type": "stream",
     "text": [
      "Percentage of Pclass=1 who survived is 62.96296296296296\n",
      "Percentage of Pclass=2 who survived is 47.28260869565217\n",
      "Percentage of Pclass=3 who survived is 24.236252545824847\n"
     ]
    },
    {
     "data": {
      "image/png": "[encoded data removed]",
      "text/plain": [
       "<Figure size 432x288 with 1 Axes>"
      ]
     },
     "metadata": {
      "tags": []
     },
     "output_type": "display_data"
    }
   ],
   "source": [
    "sns.barplot(x = 'Pclass', y = 'Survived', data = train_df);\n",
    "\n",
    "print('Percentage of Pclass=1 who survived is',train_df['Survived'][train_df['Pclass']== 1].value_counts(normalize=True)[1]*100) \n",
    "print('Percentage of Pclass=2 who survived is',train_df['Survived'][train_df['Pclass']== 2].value_counts(normalize=True)[1]*100) \n",
    "print('Percentage of Pclass=3 who survived is',train_df['Survived'][train_df['Pclass']== 3].value_counts(normalize=True)[1]*100)"
   ]
  },
  {
   "cell_type": "code",
   "execution_count": 14,
   "metadata": {
    "colab": {
     "base_uri": "https://localhost:8080/",
     "height": 653
    },
    "colab_type": "code",
    "id": "Tns5FSAe4hb1",
    "outputId": "931ed7e2-ee4a-496a-e28a-cc49f3a7ec3f"
   },
   "outputs": [
    {
     "data": {
      "image/png": "[encoded data removed]",
      "text/plain": [
       "<Figure size 440.8x648 with 6 Axes>"
      ]
     },
     "metadata": {
      "tags": []
     },
     "output_type": "display_data"
    }
   ],
   "source": [
    "grid = sns.FacetGrid(data = train_df, row = 'Pclass', col = 'Survived')\n",
    "grid.map(plt.hist, 'Age', alpha = .5, bins = 20)\n",
    "grid.add_legend();"
   ]
  },
  {
   "cell_type": "markdown",
   "metadata": {
    "colab_type": "text",
    "id": "hnbdOVQt4hhw"
   },
   "source": [
    "- **Pclass 1 seems to contribute greately to survival rate**"
   ]
  },
  {
   "cell_type": "markdown",
   "metadata": {
    "colab_type": "text",
    "id": "fIVp9KE8NkCI"
   },
   "source": [
    "#### 3.4 SibSp and Parch and Survival rates"
   ]
  },
  {
   "cell_type": "markdown",
   "metadata": {
    "colab_type": "text",
    "id": "hHHmFjLwMeQu"
   },
   "source": [
    "- SibSp = no of siblings/spouses aboard\n",
    "- Parch = no. of parents/children aboard"
   ]
  },
  {
   "cell_type": "code",
   "execution_count": 0,
   "metadata": {
    "colab": {},
    "colab_type": "code",
    "id": "-rXgd4CDMeOb"
   },
   "outputs": [],
   "source": [
    "# We are combining Sibsp and Parch that shows total no of relatives on board\n",
    "\n",
    "data = [train_df, test_df]\n",
    "\n",
    "for data_new in data:\n",
    "    data_new['relatives'] = data_new['SibSp'] + data_new['Parch']\n"
   ]
  },
  {
   "cell_type": "code",
   "execution_count": 16,
   "metadata": {
    "colab": {
     "base_uri": "https://localhost:8080/",
     "height": 291
    },
    "colab_type": "code",
    "id": "R3-Rp3kqVuNq",
    "outputId": "a01799b9-b55a-4aea-f3ae-3f44f244ccb3"
   },
   "outputs": [
    {
     "data": {
      "image/png": "[encoded data removed]",
      "text/plain": [
       "<Figure size 432x288 with 1 Axes>"
      ]
     },
     "metadata": {
      "tags": []
     },
     "output_type": "display_data"
    }
   ],
   "source": [
    "sns.barplot(data = train_df, x = 'relatives', y = 'Survived');"
   ]
  },
  {
   "cell_type": "markdown",
   "metadata": {
    "colab_type": "text",
    "id": "vIM4lD-0V5fI"
   },
   "source": [
    "**People with higher no of relatives tend to have higher survival rates**"
   ]
  },
  {
   "cell_type": "markdown",
   "metadata": {
    "colab_type": "text",
    "id": "A66D5RiOUgIX"
   },
   "source": [
    "#### 3.5 Male Female Survivate rate"
   ]
  },
  {
   "cell_type": "code",
   "execution_count": 17,
   "metadata": {
    "colab": {
     "base_uri": "https://localhost:8080/",
     "height": 324
    },
    "colab_type": "code",
    "id": "DPiyGUPGMeL9",
    "outputId": "ec5c83f3-f23c-4e12-c57d-392926392540"
   },
   "outputs": [
    {
     "name": "stdout",
     "output_type": "stream",
     "text": [
      "Percentage of female who survived is 74.20382165605095\n",
      "Percentage of male who survived is 18.890814558058924\n"
     ]
    },
    {
     "data": {
      "image/png": "[encoded data removed]",
      "text/plain": [
       "<Figure size 432x288 with 1 Axes>"
      ]
     },
     "metadata": {
      "tags": []
     },
     "output_type": "display_data"
    }
   ],
   "source": [
    "sns.barplot(data = train_df, x = 'Sex', y = 'Survived');\n",
    "\n",
    "print('Percentage of female who survived is',train_df['Survived'][train_df['Sex']=='female'].value_counts(normalize=True)[1]*100) \n",
    "print('Percentage of male who survived is',train_df['Survived'][train_df['Sex']=='male'].value_counts(normalize=True)[1]*100) "
   ]
  },
  {
   "cell_type": "markdown",
   "metadata": {
    "colab_type": "text",
    "id": "ODWnbTdOVII7"
   },
   "source": [
    "**Thus we can see that perentage of women who survived is much higher**"
   ]
  },
  {
   "cell_type": "markdown",
   "metadata": {
    "colab_type": "text",
    "id": "Dt21npzS8XRe"
   },
   "source": [
    "### 4 Feature Modelling"
   ]
  },
  {
   "cell_type": "code",
   "execution_count": 18,
   "metadata": {
    "colab": {
     "base_uri": "https://localhost:8080/",
     "height": 174
    },
    "colab_type": "code",
    "id": "7WXJrIfF2yik",
    "outputId": "57b5736a-2c7b-4934-dd73-036214fcc7b1"
   },
   "outputs": [
    {
     "data": {
      "text/html": [
       "<div>\n",
       "<style scoped>\n",
       "    .dataframe tbody tr th:only-of-type {\n",
       "        vertical-align: middle;\n",
       "    }\n",
       "\n",
       "    .dataframe tbody tr th {\n",
       "        vertical-align: top;\n",
       "    }\n",
       "\n",
       "    .dataframe thead th {\n",
       "        text-align: right;\n",
       "    }\n",
       "</style>\n",
       "<table border=\"1\" class=\"dataframe\">\n",
       "  <thead>\n",
       "    <tr style=\"text-align: right;\">\n",
       "      <th></th>\n",
       "      <th>PassengerId</th>\n",
       "      <th>Survived</th>\n",
       "      <th>Pclass</th>\n",
       "      <th>Name</th>\n",
       "      <th>Sex</th>\n",
       "      <th>Age</th>\n",
       "      <th>SibSp</th>\n",
       "      <th>Parch</th>\n",
       "      <th>Ticket</th>\n",
       "      <th>Fare</th>\n",
       "      <th>Cabin</th>\n",
       "      <th>Embarked</th>\n",
       "      <th>relatives</th>\n",
       "    </tr>\n",
       "  </thead>\n",
       "  <tbody>\n",
       "    <tr>\n",
       "      <th>0</th>\n",
       "      <td>1</td>\n",
       "      <td>0</td>\n",
       "      <td>3</td>\n",
       "      <td>Braund, Mr. Owen Harris</td>\n",
       "      <td>male</td>\n",
       "      <td>22.0</td>\n",
       "      <td>1</td>\n",
       "      <td>0</td>\n",
       "      <td>A/5 21171</td>\n",
       "      <td>7.2500</td>\n",
       "      <td>NaN</td>\n",
       "      <td>S</td>\n",
       "      <td>1</td>\n",
       "    </tr>\n",
       "    <tr>\n",
       "      <th>1</th>\n",
       "      <td>2</td>\n",
       "      <td>1</td>\n",
       "      <td>1</td>\n",
       "      <td>Cumings, Mrs. John Bradley (Florence Briggs Th...</td>\n",
       "      <td>female</td>\n",
       "      <td>38.0</td>\n",
       "      <td>1</td>\n",
       "      <td>0</td>\n",
       "      <td>PC 17599</td>\n",
       "      <td>71.2833</td>\n",
       "      <td>C85</td>\n",
       "      <td>C</td>\n",
       "      <td>1</td>\n",
       "    </tr>\n",
       "  </tbody>\n",
       "</table>\n",
       "</div>"
      ],
      "text/plain": [
       "   PassengerId  Survived  Pclass  ... Cabin Embarked  relatives\n",
       "0            1         0       3  ...   NaN        S          1\n",
       "1            2         1       1  ...   C85        C          1\n",
       "\n",
       "[2 rows x 13 columns]"
      ]
     },
     "execution_count": 18,
     "metadata": {
      "tags": []
     },
     "output_type": "execute_result"
    }
   ],
   "source": [
    "train_df.head(2)"
   ]
  },
  {
   "cell_type": "markdown",
   "metadata": {
    "colab_type": "text",
    "id": "Zpt2FP3AEelU"
   },
   "source": [
    "#### 4.1 Converting the Age column from a continious variable to a categorical variable"
   ]
  },
  {
   "cell_type": "markdown",
   "metadata": {
    "colab_type": "text",
    "id": "2D1NByu6EuND"
   },
   "source": [
    "**In order for this to be useful to our machine learning model, we can separate this continuous feature into a categorical feature by dividing it into ranges. We can use the pandas.cut() function to help us out.**\n",
    "\n",
    "- **The pandas.cut() function has two required parameters - the column we wish to cut, and a list of numbers which define the boundaries of our cuts. We are also going to use the optional parameter labels, which takes a list of labels for the resultant bins. This will make it easier for us to understand our results.**"
   ]
  },
  {
   "cell_type": "markdown",
   "metadata": {
    "colab_type": "text",
    "id": "CjixMaJ1Fao6"
   },
   "source": [
    "**Age column has 177 missing values**\n",
    "- **we will fill all the missing age values with values -0.5 to make it easier for us to put it into a category later on**"
   ]
  },
  {
   "cell_type": "markdown",
   "metadata": {
    "colab_type": "text",
    "id": "diUk7ET2MeE8"
   },
   "source": [
    "**Create the cut_points and label_names lists to split the Age column into six categories:**\n",
    "\n",
    "- **Missing:  from -1 to 0**\n",
    "- **Infant  : from 0 to 5**\n",
    "- **Child : from 5 to 12**\n",
    "- **Teenager : from 12 to 18**\n",
    "- **Young Adult : from 18 to 35**\n",
    "- **Adult : from 35 to 60**\n",
    "- **Senior : from 60 to 100**"
   ]
  },
  {
   "cell_type": "code",
   "execution_count": 0,
   "metadata": {
    "colab": {},
    "colab_type": "code",
    "id": "R6pSiAa8MeCn"
   },
   "outputs": [],
   "source": [
    "def process_age(df, cut_points, label_names):\n",
    "    df['Age'] = df['Age'].fillna(-0.5)     # Filling missing values with -0.5\n",
    "    df['Age_categories'] = pd.cut(df['Age'], cut_points, labels = label_names )\n",
    "    return df\n",
    "\n",
    "cut_points = [-1,0, 5, 12, 18, 35, 60, 100]\n",
    "label_names = [\"Missing\", 'Infant', \"Child\", 'Teenager', \"Young Adult\", 'Adult', 'Senior']"
   ]
  },
  {
   "cell_type": "code",
   "execution_count": 0,
   "metadata": {
    "colab": {},
    "colab_type": "code",
    "id": "54TbfBjrXScS"
   },
   "outputs": [],
   "source": [
    "# Alternate Method\n",
    "\n",
    "#train['Age']=train['Age'].fillna(-0.5)\n",
    "#test['Age']=test['Age'].fillna(-0.5)\n",
    "#bins=[-1,0,5,12,17,25,35,60,np.inf]\n",
    "#labels=['Unknown','Baby','Child','Teenager','Student','Young Adult','Adult','Senior Citizen']\n",
    "#train['Agegroup']=pd.cut(train['Age'],bins,labels=labels)\n",
    "#test['Agegroup']=pd.cut(train['Age'],bins,labels=labels)\n",
    "\n",
    "#sns.barplot(x='Agegroup',y='Survived',data=train)"
   ]
  },
  {
   "cell_type": "code",
   "execution_count": 0,
   "metadata": {
    "colab": {},
    "colab_type": "code",
    "id": "OkOeP_SAMeAN"
   },
   "outputs": [],
   "source": [
    "train_df = process_age(train_df, cut_points, label_names)\n",
    "test_df = process_age(test_df, cut_points, label_names)"
   ]
  },
  {
   "cell_type": "code",
   "execution_count": 22,
   "metadata": {
    "colab": {
     "base_uri": "https://localhost:8080/",
     "height": 348
    },
    "colab_type": "code",
    "id": "KgJIAHL3Md9u",
    "outputId": "b16c8ce0-c54b-4ea4-bfd8-96e911f8aa8f"
   },
   "outputs": [
    {
     "data": {
      "image/png": "[encoded data removed]",
      "text/plain": [
       "<Figure size 432x288 with 1 Axes>"
      ]
     },
     "metadata": {
      "tags": []
     },
     "output_type": "display_data"
    }
   ],
   "source": [
    "# We see the distribution of survival rates by Age_categories using a pivot table to \n",
    "# pivot the train_df dataset by the Age_categories column\n",
    "\n",
    "age_cat_pivot = train_df.pivot_table(values = 'Survived', index = 'Age_categories')\n",
    "age_cat_pivot.plot.bar();"
   ]
  },
  {
   "cell_type": "markdown",
   "metadata": {
    "colab_type": "text",
    "id": "SFBwLUBv8zse"
   },
   "source": [
    "#### 4.2 OHE hot encoding the categorical variables"
   ]
  },
  {
   "cell_type": "markdown",
   "metadata": {
    "colab_type": "text",
    "id": "d4QuIoaiCM_s"
   },
   "source": [
    "**Categorical variables**\n",
    "- **Pclass, Sex, Age_categories**"
   ]
  },
  {
   "cell_type": "code",
   "execution_count": 0,
   "metadata": {
    "colab": {},
    "colab_type": "code",
    "id": "iXu_yEqi2ybF"
   },
   "outputs": [],
   "source": [
    "# ohe the Pclass with pd.get_dummies method\n",
    "# ohe has to be done on both train and test set\n",
    "\n",
    "train_df = pd.get_dummies(data = train_df, columns= ['Pclass'], drop_first = True)\n",
    "test_df = pd.get_dummies(data = test_df, columns = ['Pclass'], drop_first = True)"
   ]
  },
  {
   "cell_type": "code",
   "execution_count": 0,
   "metadata": {
    "colab": {},
    "colab_type": "code",
    "id": "0lis9wIBMeJt"
   },
   "outputs": [],
   "source": [
    "# Function for get_dummies method\n",
    "\n",
    "def create_dummies(df, column_name):\n",
    "    dummies = pd.get_dummies(df[column_name], prefix = column_name, drop_first = True)\n",
    "    df = pd.concat([df, dummies], axis = 1)\n",
    "    return df\n",
    "    "
   ]
  },
  {
   "cell_type": "code",
   "execution_count": 0,
   "metadata": {
    "colab": {},
    "colab_type": "code",
    "id": "Zi-GY4lmMeHO"
   },
   "outputs": [],
   "source": [
    "# OHE the Sex class\n",
    "\n",
    "train_df = create_dummies(train_df, 'Sex')\n",
    "test_df = create_dummies(test_df, 'Sex')\n"
   ]
  },
  {
   "cell_type": "code",
   "execution_count": 0,
   "metadata": {
    "colab": {},
    "colab_type": "code",
    "id": "S_6rYKzyMd7X"
   },
   "outputs": [],
   "source": [
    "# OHE the Age_Categories column\n",
    "\n",
    "train_df = create_dummies(train_df, 'Age_categories')\n",
    "test_df = create_dummies(test_df, 'Age_categories')"
   ]
  },
  {
   "cell_type": "code",
   "execution_count": 27,
   "metadata": {
    "colab": {
     "base_uri": "https://localhost:8080/",
     "height": 244
    },
    "colab_type": "code",
    "id": "ZlCtoAQ9Md27",
    "outputId": "a643064f-0f7a-4316-b0fc-7135a9042d34"
   },
   "outputs": [
    {
     "data": {
      "text/html": [
       "<div>\n",
       "<style scoped>\n",
       "    .dataframe tbody tr th:only-of-type {\n",
       "        vertical-align: middle;\n",
       "    }\n",
       "\n",
       "    .dataframe tbody tr th {\n",
       "        vertical-align: top;\n",
       "    }\n",
       "\n",
       "    .dataframe thead th {\n",
       "        text-align: right;\n",
       "    }\n",
       "</style>\n",
       "<table border=\"1\" class=\"dataframe\">\n",
       "  <thead>\n",
       "    <tr style=\"text-align: right;\">\n",
       "      <th></th>\n",
       "      <th>PassengerId</th>\n",
       "      <th>Name</th>\n",
       "      <th>Sex</th>\n",
       "      <th>Age</th>\n",
       "      <th>SibSp</th>\n",
       "      <th>Parch</th>\n",
       "      <th>Ticket</th>\n",
       "      <th>Fare</th>\n",
       "      <th>Cabin</th>\n",
       "      <th>Embarked</th>\n",
       "      <th>relatives</th>\n",
       "      <th>Age_categories</th>\n",
       "      <th>Pclass_2</th>\n",
       "      <th>Pclass_3</th>\n",
       "      <th>Sex_male</th>\n",
       "      <th>Age_categories_Infant</th>\n",
       "      <th>Age_categories_Child</th>\n",
       "      <th>Age_categories_Teenager</th>\n",
       "      <th>Age_categories_Young Adult</th>\n",
       "      <th>Age_categories_Adult</th>\n",
       "      <th>Age_categories_Senior</th>\n",
       "    </tr>\n",
       "  </thead>\n",
       "  <tbody>\n",
       "    <tr>\n",
       "      <th>0</th>\n",
       "      <td>892</td>\n",
       "      <td>Kelly, Mr. James</td>\n",
       "      <td>male</td>\n",
       "      <td>34.5</td>\n",
       "      <td>0</td>\n",
       "      <td>0</td>\n",
       "      <td>330911</td>\n",
       "      <td>7.8292</td>\n",
       "      <td>NaN</td>\n",
       "      <td>Q</td>\n",
       "      <td>0</td>\n",
       "      <td>Young Adult</td>\n",
       "      <td>0</td>\n",
       "      <td>1</td>\n",
       "      <td>1</td>\n",
       "      <td>0</td>\n",
       "      <td>0</td>\n",
       "      <td>0</td>\n",
       "      <td>1</td>\n",
       "      <td>0</td>\n",
       "      <td>0</td>\n",
       "    </tr>\n",
       "    <tr>\n",
       "      <th>1</th>\n",
       "      <td>893</td>\n",
       "      <td>Wilkes, Mrs. James (Ellen Needs)</td>\n",
       "      <td>female</td>\n",
       "      <td>47.0</td>\n",
       "      <td>1</td>\n",
       "      <td>0</td>\n",
       "      <td>363272</td>\n",
       "      <td>7.0000</td>\n",
       "      <td>NaN</td>\n",
       "      <td>S</td>\n",
       "      <td>1</td>\n",
       "      <td>Adult</td>\n",
       "      <td>0</td>\n",
       "      <td>1</td>\n",
       "      <td>0</td>\n",
       "      <td>0</td>\n",
       "      <td>0</td>\n",
       "      <td>0</td>\n",
       "      <td>0</td>\n",
       "      <td>1</td>\n",
       "      <td>0</td>\n",
       "    </tr>\n",
       "  </tbody>\n",
       "</table>\n",
       "</div>"
      ],
      "text/plain": [
       "   PassengerId  ... Age_categories_Senior\n",
       "0          892  ...                     0\n",
       "1          893  ...                     0\n",
       "\n",
       "[2 rows x 21 columns]"
      ]
     },
     "execution_count": 27,
     "metadata": {
      "tags": []
     },
     "output_type": "execute_result"
    }
   ],
   "source": [
    "test_df.head(2)"
   ]
  },
  {
   "cell_type": "code",
   "execution_count": 0,
   "metadata": {
    "colab": {},
    "colab_type": "code",
    "id": "0iLe7jB6Md06"
   },
   "outputs": [],
   "source": [
    "# Dropping the Age_categories column\n",
    "\n",
    "train_df = train_df.drop(columns = ['Age_categories'], axis = 1)\n",
    "test_df = test_df.drop(columns = ['Age_categories'], axis = 1)\n"
   ]
  },
  {
   "cell_type": "markdown",
   "metadata": {
    "colab_type": "text",
    "id": "_kd4Vf0kXiDQ"
   },
   "source": [
    "#### 4.3 Dealing with missing values (embarked col)"
   ]
  },
  {
   "cell_type": "code",
   "execution_count": 29,
   "metadata": {
    "colab": {
     "base_uri": "https://localhost:8080/",
     "height": 385
    },
    "colab_type": "code",
    "id": "TMkxaMOXXoOk",
    "outputId": "201d2afd-0b7a-4451-af48-aa68a1d5f898"
   },
   "outputs": [
    {
     "data": {
      "text/plain": [
       "PassengerId                     0\n",
       "Survived                        0\n",
       "Name                            0\n",
       "Sex                             0\n",
       "Age                             0\n",
       "SibSp                           0\n",
       "Parch                           0\n",
       "Ticket                          0\n",
       "Fare                            0\n",
       "Cabin                         687\n",
       "Embarked                        2\n",
       "relatives                       0\n",
       "Pclass_2                        0\n",
       "Pclass_3                        0\n",
       "Sex_male                        0\n",
       "Age_categories_Infant           0\n",
       "Age_categories_Child            0\n",
       "Age_categories_Teenager         0\n",
       "Age_categories_Young Adult      0\n",
       "Age_categories_Adult            0\n",
       "Age_categories_Senior           0\n",
       "dtype: int64"
      ]
     },
     "execution_count": 29,
     "metadata": {
      "tags": []
     },
     "output_type": "execute_result"
    }
   ],
   "source": [
    "train_df.isnull().sum()"
   ]
  },
  {
   "cell_type": "code",
   "execution_count": 30,
   "metadata": {
    "colab": {
     "base_uri": "https://localhost:8080/",
     "height": 67
    },
    "colab_type": "code",
    "id": "PMHNY41YYjf2",
    "outputId": "68dd34fc-8294-451e-fa5b-5f7ae0303474"
   },
   "outputs": [
    {
     "name": "stdout",
     "output_type": "stream",
     "text": [
      "No. of people embarked from S : 644\n",
      "No. of people embarked from C : 168\n",
      "No. of people embarked from Q : 77\n"
     ]
    }
   ],
   "source": [
    "# Dealing with the missing rows in embarked column\n",
    "\n",
    "print('No. of people embarked from S :',train_df[train_df['Embarked']=='S'].shape[0])\n",
    "print('No. of people embarked from C :',train_df[train_df['Embarked']=='C'].shape[0])\n",
    "print('No. of people embarked from Q :',train_df[train_df['Embarked']=='Q'].shape[0])"
   ]
  },
  {
   "cell_type": "markdown",
   "metadata": {
    "colab_type": "text",
    "id": "V0EmYNJkZCs3"
   },
   "source": [
    "**Since maximum people embarked from port S, we will be filling the missing Embarked values with S**"
   ]
  },
  {
   "cell_type": "code",
   "execution_count": 31,
   "metadata": {
    "colab": {
     "base_uri": "https://localhost:8080/",
     "height": 385
    },
    "colab_type": "code",
    "id": "6i7JYYIVZCqU",
    "outputId": "46860f40-1cf7-45a4-f051-6cbe91f0e6f1"
   },
   "outputs": [
    {
     "data": {
      "text/plain": [
       "PassengerId                     0\n",
       "Survived                        0\n",
       "Name                            0\n",
       "Sex                             0\n",
       "Age                             0\n",
       "SibSp                           0\n",
       "Parch                           0\n",
       "Ticket                          0\n",
       "Fare                            0\n",
       "Cabin                         687\n",
       "Embarked                        0\n",
       "relatives                       0\n",
       "Pclass_2                        0\n",
       "Pclass_3                        0\n",
       "Sex_male                        0\n",
       "Age_categories_Infant           0\n",
       "Age_categories_Child            0\n",
       "Age_categories_Teenager         0\n",
       "Age_categories_Young Adult      0\n",
       "Age_categories_Adult            0\n",
       "Age_categories_Senior           0\n",
       "dtype: int64"
      ]
     },
     "execution_count": 31,
     "metadata": {
      "tags": []
     },
     "output_type": "execute_result"
    }
   ],
   "source": [
    "train_df['Embarked']=train_df['Embarked'].fillna('S')\n",
    "train_df.isnull().sum()"
   ]
  },
  {
   "cell_type": "code",
   "execution_count": 32,
   "metadata": {
    "colab": {
     "base_uri": "https://localhost:8080/",
     "height": 368
    },
    "colab_type": "code",
    "id": "G8nfdYmoXoMN",
    "outputId": "35c4f953-7fd8-4920-fc80-32fea0f51201"
   },
   "outputs": [
    {
     "data": {
      "text/plain": [
       "PassengerId                     0\n",
       "Name                            0\n",
       "Sex                             0\n",
       "Age                             0\n",
       "SibSp                           0\n",
       "Parch                           0\n",
       "Ticket                          0\n",
       "Fare                            1\n",
       "Cabin                         327\n",
       "Embarked                        0\n",
       "relatives                       0\n",
       "Pclass_2                        0\n",
       "Pclass_3                        0\n",
       "Sex_male                        0\n",
       "Age_categories_Infant           0\n",
       "Age_categories_Child            0\n",
       "Age_categories_Teenager         0\n",
       "Age_categories_Young Adult      0\n",
       "Age_categories_Adult            0\n",
       "Age_categories_Senior           0\n",
       "dtype: int64"
      ]
     },
     "execution_count": 32,
     "metadata": {
      "tags": []
     },
     "output_type": "execute_result"
    }
   ],
   "source": [
    "test_df.isnull().sum()"
   ]
  },
  {
   "cell_type": "markdown",
   "metadata": {
    "colab_type": "text",
    "id": "xoy64iU2XoJr"
   },
   "source": [
    "**We will be dropping the cabin column from the train and test dataset**"
   ]
  },
  {
   "cell_type": "markdown",
   "metadata": {
    "colab_type": "text",
    "id": "pAxXGJNUaSht"
   },
   "source": [
    "#### 4.4 OHE the embarked column"
   ]
  },
  {
   "cell_type": "code",
   "execution_count": 0,
   "metadata": {
    "colab": {},
    "colab_type": "code",
    "id": "c2GSEG8HaJoh"
   },
   "outputs": [],
   "source": [
    "train_df = create_dummies(train_df, 'Embarked')\n",
    "test_df = create_dummies(test_df, 'Embarked')"
   ]
  },
  {
   "cell_type": "markdown",
   "metadata": {
    "colab_type": "text",
    "id": "IIWs2MLxQhDM"
   },
   "source": [
    "### 5 Data Preprocessing"
   ]
  },
  {
   "cell_type": "code",
   "execution_count": 34,
   "metadata": {
    "colab": {
     "base_uri": "https://localhost:8080/",
     "height": 134
    },
    "colab_type": "code",
    "id": "lma9i1S_aqss",
    "outputId": "d6046ad9-4229-4972-8b01-e9a7d90386be"
   },
   "outputs": [
    {
     "data": {
      "text/plain": [
       "Index(['PassengerId', 'Survived', 'Name', 'Sex', 'Age', 'SibSp', 'Parch',\n",
       "       'Ticket', 'Fare', 'Cabin', 'Embarked', 'relatives', 'Pclass_2',\n",
       "       'Pclass_3', 'Sex_male', 'Age_categories_Infant', 'Age_categories_Child',\n",
       "       'Age_categories_Teenager', 'Age_categories_Young Adult',\n",
       "       'Age_categories_Adult', 'Age_categories_Senior', 'Embarked_Q',\n",
       "       'Embarked_S'],\n",
       "      dtype='object')"
      ]
     },
     "execution_count": 34,
     "metadata": {
      "tags": []
     },
     "output_type": "execute_result"
    }
   ],
   "source": [
    "train_df.columns"
   ]
  },
  {
   "cell_type": "code",
   "execution_count": 0,
   "metadata": {
    "colab": {},
    "colab_type": "code",
    "id": "2zomatSHMdyR"
   },
   "outputs": [],
   "source": [
    "columns = ['Age','relatives', 'Pclass_2','Pclass_3', \n",
    "           'Sex_male', 'Age_categories_Infant', 'Age_categories_Child',\n",
    "           'Age_categories_Teenager', 'Age_categories_Young Adult',\n",
    "           'Age_categories_Adult', 'Age_categories_Senior', 'Embarked_Q','Embarked_S']\n",
    "\n",
    "X = train_df[columns]\n",
    "y = train_df['Survived']"
   ]
  },
  {
   "cell_type": "code",
   "execution_count": 0,
   "metadata": {
    "colab": {},
    "colab_type": "code",
    "id": "mKvWqvu2Mdv8"
   },
   "outputs": [],
   "source": [
    "X_train, X_test, y_train, y_test = train_test_split(X, y, test_size=0.2, random_state= 0)"
   ]
  },
  {
   "cell_type": "code",
   "execution_count": 0,
   "metadata": {
    "colab": {},
    "colab_type": "code",
    "id": "N4MZOGZ3PuQQ"
   },
   "outputs": [],
   "source": [
    "# Standardizing the data\n",
    "\n",
    "sc = StandardScaler()\n",
    "X_train_sc = sc.fit_transform(X_train) "
   ]
  },
  {
   "cell_type": "markdown",
   "metadata": {
    "colab_type": "text",
    "id": "YVbLhOHReCdf"
   },
   "source": [
    "### 6 Spot Checking Algorithms"
   ]
  },
  {
   "cell_type": "code",
   "execution_count": 41,
   "metadata": {
    "colab": {
     "base_uri": "https://localhost:8080/",
     "height": 553
    },
    "colab_type": "code",
    "id": "74tCLlOTPuL3",
    "outputId": "b2962956-314b-437a-e475-3501732d2843"
   },
   "outputs": [
    {
     "name": "stdout",
     "output_type": "stream",
     "text": [
      "LR: 0.814671 (0.021897)\n",
      "KNN: 0.757101 (0.035581)\n",
      "CART: 0.788146 (0.047168)\n",
      "NB: 0.783764 (0.031800)\n",
      "SVM: 0.796479 (0.034799)\n",
      "SGD: 0.687070 (0.101525)\n",
      "RF: 0.785290 (0.041063)\n",
      "LinearSVC: 0.775235 (0.066198)\n"
     ]
    },
    {
     "data": {
      "image/png": "[encoded data removed]",
      "text/plain": [
       "<Figure size 720x432 with 1 Axes>"
      ]
     },
     "metadata": {
      "tags": []
     },
     "output_type": "display_data"
    }
   ],
   "source": [
    "# Spot checking algorithms\n",
    "\n",
    "models = []\n",
    "models.append(('LR' , LogisticRegression(solver = 'liblinear' , multi_class = 'auto')))\n",
    "models.append(('KNN' , KNeighborsClassifier()))\n",
    "models.append(('CART' , DecisionTreeClassifier()))\n",
    "models.append(('NB' ,GaussianNB()))\n",
    "models.append(('SVM' , SVC(gamma = 'auto')))\n",
    "models.append(('SGD', SGDClassifier()))\n",
    "models.append(('RF', RandomForestClassifier()))\n",
    "models.append(('LinearSVC', LinearSVC()))\n",
    "\n",
    "\n",
    "\n",
    "# Evaluating models on each turn\n",
    "\n",
    "results = []\n",
    "names = []\n",
    "\n",
    "for name,model in models :\n",
    "    kfold = KFold(n_splits = 10 , random_state=7)\n",
    "    cv_results = cross_val_score(model , X_train, y_train , cv = kfold , scoring = 'accuracy')\n",
    "    results.append(cv_results)\n",
    "    names.append(name)\n",
    "    msg = '%s: %f (%f)' % (name, cv_results.mean() , cv_results.std())\n",
    "    print(msg)\n",
    "    \n",
    "# Creating a plot of the model evaluation results to compare the spread and mean accuracy of each model\n",
    "\n",
    "fig =plt.figure(figsize=(10,6))\n",
    "fig.suptitle('Algorithm Comparison')\n",
    "ax = fig.add_subplot(111)\n",
    "plt.boxplot(results)\n",
    "ax.set_xticklabels(names)\n",
    "plt.show()"
   ]
  },
  {
   "cell_type": "markdown",
   "metadata": {
    "colab_type": "text",
    "id": "5FqJDMg2PuG-"
   },
   "source": [
    "**We can see that Logistic Regression seems to provide the best results**"
   ]
  },
  {
   "cell_type": "markdown",
   "metadata": {
    "colab_type": "text",
    "id": "1mgv9HssmNV_"
   },
   "source": [
    "### 7 HyperParameter tuning for Logistic Regression"
   ]
  },
  {
   "cell_type": "code",
   "execution_count": 47,
   "metadata": {
    "colab": {
     "base_uri": "https://localhost:8080/",
     "height": 702
    },
    "colab_type": "code",
    "id": "1ISWDqGulj_-",
    "outputId": "cc2a2d98-8f4c-44d0-dee4-b83e5d9fb6ec"
   },
   "outputs": [
    {
     "name": "stdout",
     "output_type": "stream",
     "text": [
      "Best : 0.818820 using {'C': 1.5, 'dual': False, 'max_iter': 100}\n",
      "0.772472 (0.090162) with {'C': 1.0, 'dual': True, 'max_iter': 100}\n",
      "0.797753 (0.064816) with {'C': 1.0, 'dual': True, 'max_iter': 110}\n",
      "0.780899 (0.056190) with {'C': 1.0, 'dual': True, 'max_iter': 120}\n",
      "0.796348 (0.054137) with {'C': 1.0, 'dual': True, 'max_iter': 130}\n",
      "0.797753 (0.064689) with {'C': 1.0, 'dual': True, 'max_iter': 140}\n",
      "0.814607 (0.021900) with {'C': 1.0, 'dual': False, 'max_iter': 100}\n",
      "0.814607 (0.021900) with {'C': 1.0, 'dual': False, 'max_iter': 110}\n",
      "0.814607 (0.021900) with {'C': 1.0, 'dual': False, 'max_iter': 120}\n",
      "0.814607 (0.021900) with {'C': 1.0, 'dual': False, 'max_iter': 130}\n",
      "0.814607 (0.021900) with {'C': 1.0, 'dual': False, 'max_iter': 140}\n",
      "0.794944 (0.062289) with {'C': 1.5, 'dual': True, 'max_iter': 100}\n",
      "0.776685 (0.104237) with {'C': 1.5, 'dual': True, 'max_iter': 110}\n",
      "0.804775 (0.033306) with {'C': 1.5, 'dual': True, 'max_iter': 120}\n",
      "0.741573 (0.073787) with {'C': 1.5, 'dual': True, 'max_iter': 130}\n",
      "0.800562 (0.025711) with {'C': 1.5, 'dual': True, 'max_iter': 140}\n",
      "0.818820 (0.023249) with {'C': 1.5, 'dual': False, 'max_iter': 100}\n",
      "0.818820 (0.023249) with {'C': 1.5, 'dual': False, 'max_iter': 110}\n",
      "0.818820 (0.023249) with {'C': 1.5, 'dual': False, 'max_iter': 120}\n",
      "0.818820 (0.023249) with {'C': 1.5, 'dual': False, 'max_iter': 130}\n",
      "0.818820 (0.023249) with {'C': 1.5, 'dual': False, 'max_iter': 140}\n",
      "0.783708 (0.073800) with {'C': 2.0, 'dual': True, 'max_iter': 100}\n",
      "0.799157 (0.057648) with {'C': 2.0, 'dual': True, 'max_iter': 110}\n",
      "0.771067 (0.069819) with {'C': 2.0, 'dual': True, 'max_iter': 120}\n",
      "0.737360 (0.075903) with {'C': 2.0, 'dual': True, 'max_iter': 130}\n",
      "0.764045 (0.075122) with {'C': 2.0, 'dual': True, 'max_iter': 140}\n",
      "0.814607 (0.026617) with {'C': 2.0, 'dual': False, 'max_iter': 100}\n",
      "0.814607 (0.026617) with {'C': 2.0, 'dual': False, 'max_iter': 110}\n",
      "0.814607 (0.026617) with {'C': 2.0, 'dual': False, 'max_iter': 120}\n",
      "0.814607 (0.026617) with {'C': 2.0, 'dual': False, 'max_iter': 130}\n",
      "0.814607 (0.026617) with {'C': 2.0, 'dual': False, 'max_iter': 140}\n",
      "0.765449 (0.063185) with {'C': 2.5, 'dual': True, 'max_iter': 100}\n",
      "0.786517 (0.046989) with {'C': 2.5, 'dual': True, 'max_iter': 110}\n",
      "0.773876 (0.077235) with {'C': 2.5, 'dual': True, 'max_iter': 120}\n",
      "0.801966 (0.039618) with {'C': 2.5, 'dual': True, 'max_iter': 130}\n",
      "0.801966 (0.040847) with {'C': 2.5, 'dual': True, 'max_iter': 140}\n",
      "0.811798 (0.026967) with {'C': 2.5, 'dual': False, 'max_iter': 100}\n",
      "0.811798 (0.026967) with {'C': 2.5, 'dual': False, 'max_iter': 110}\n",
      "0.811798 (0.026967) with {'C': 2.5, 'dual': False, 'max_iter': 120}\n",
      "0.811798 (0.026967) with {'C': 2.5, 'dual': False, 'max_iter': 130}\n",
      "0.811798 (0.026967) with {'C': 2.5, 'dual': False, 'max_iter': 140}\n"
     ]
    }
   ],
   "source": [
    "dual=[True,False]\n",
    "max_iter=[100,110,120,130,140]\n",
    "C = [1.0,1.5,2.0,2.5] \n",
    "param_grid = dict(dual= dual, max_iter= max_iter, C= C )\n",
    "\n",
    "model = LogisticRegression()\n",
    "kfold = KFold(n_splits = 10 , random_state= 7)\n",
    "grid =GridSearchCV(estimator = model , param_grid = param_grid , scoring= 'accuracy' ,cv = kfold)\n",
    "grid_result = grid.fit(X_train , y_train)\n",
    "\n",
    "\n",
    "print('Best : %f using %s' % (grid_result.best_score_ , grid_result.best_params_))\n",
    "\n",
    "means = grid_result.cv_results_['mean_test_score']\n",
    "stds = grid_result.cv_results_['std_test_score']\n",
    "params = grid_result.cv_results_['params']\n",
    "\n",
    "for mean ,stdev, param in zip(means,stds , params):\n",
    "    print('%f (%f) with %r' % (mean ,stdev , param))"
   ]
  },
  {
   "cell_type": "markdown",
   "metadata": {
    "colab_type": "text",
    "id": "5YjGyUHAPuEq"
   },
   "source": [
    "**We can see that the best accuracy of 82% is achieved with  C = 1.5 , dual = False and max_iter = 100** "
   ]
  },
  {
   "cell_type": "markdown",
   "metadata": {
    "colab_type": "text",
    "id": "3rSYGA9Dp8nw"
   },
   "source": [
    "### 8 Finalizing the model"
   ]
  },
  {
   "cell_type": "code",
   "execution_count": 50,
   "metadata": {
    "colab": {
     "base_uri": "https://localhost:8080/",
     "height": 284
    },
    "colab_type": "code",
    "id": "SW_w2Yz6PuCg",
    "outputId": "09e654b3-aefb-4705-db7e-8aed88cf7056"
   },
   "outputs": [
    {
     "name": "stdout",
     "output_type": "stream",
     "text": [
      "accuracy_score: 0.8212290502793296\n",
      "--------------------------------------------------\n",
      "Confusion matrix\n",
      "[[96 14]\n",
      " [18 51]]\n",
      "--------------------------------------------------\n",
      "Classification report :\n",
      "              precision    recall  f1-score   support\n",
      "\n",
      "           0       0.84      0.87      0.86       110\n",
      "           1       0.78      0.74      0.76        69\n",
      "\n",
      "    accuracy                           0.82       179\n",
      "   macro avg       0.81      0.81      0.81       179\n",
      "weighted avg       0.82      0.82      0.82       179\n",
      "\n"
     ]
    }
   ],
   "source": [
    "model_LR = LogisticRegression(C= 1.5, dual= False, max_iter= 100 )\n",
    "model_LR.fit(X_train , y_train)\n",
    "y_pred = model_LR.predict(X_test)\n",
    "\n",
    "\n",
    "print('accuracy_score:', accuracy_score(y_test , y_pred))\n",
    "print('-'*50)\n",
    "print('Confusion matrix' )\n",
    "print(confusion_matrix(y_test ,y_pred))\n",
    "print('-'*50)\n",
    "print('Classification report :')\n",
    "print(classification_report(y_test,y_pred))"
   ]
  },
  {
   "cell_type": "markdown",
   "metadata": {
    "colab_type": "text",
    "id": "NDm5OV_IPuAI"
   },
   "source": [
    "**We can see that our model has an accuracy of 82%**"
   ]
  },
  {
   "cell_type": "code",
   "execution_count": 0,
   "metadata": {
    "colab": {},
    "colab_type": "code",
    "id": "ipqf6L5WPt9v"
   },
   "outputs": [],
   "source": []
  },
  {
   "cell_type": "code",
   "execution_count": 0,
   "metadata": {
    "colab": {},
    "colab_type": "code",
    "id": "Y5FUp_A7Pt7h"
   },
   "outputs": [],
   "source": []
  },
  {
   "cell_type": "code",
   "execution_count": 0,
   "metadata": {
    "colab": {},
    "colab_type": "code",
    "id": "UuTaid-SPt5R"
   },
   "outputs": [],
   "source": []
  },
  {
   "cell_type": "code",
   "execution_count": 0,
   "metadata": {
    "colab": {},
    "colab_type": "code",
    "id": "MHlFjH0VPt29"
   },
   "outputs": [],
   "source": []
  },
  {
   "cell_type": "code",
   "execution_count": 0,
   "metadata": {
    "colab": {},
    "colab_type": "code",
    "id": "vWf2SdoyPt0s"
   },
   "outputs": [],
   "source": []
  },
  {
   "cell_type": "code",
   "execution_count": 0,
   "metadata": {
    "colab": {},
    "colab_type": "code",
    "id": "BSfDQbCyPtye"
   },
   "outputs": [],
   "source": []
  },
  {
   "cell_type": "code",
   "execution_count": 0,
   "metadata": {
    "colab": {},
    "colab_type": "code",
    "id": "m6Ga5M4xPtlZ"
   },
   "outputs": [],
   "source": []
  },
  {
   "cell_type": "code",
   "execution_count": 0,
   "metadata": {
    "colab": {},
    "colab_type": "code",
    "id": "ZzFRpY6a3oUu"
   },
   "outputs": [],
   "source": []
  }
 ],
 "metadata": {
  "accelerator": "GPU",
  "colab": {
   "collapsed_sections": [],
   "name": "Titanic Survival Prediction.ipynb",
   "provenance": [],
   "toc_visible": true,
   "version": "0.3.2"
  },
  "kernelspec": {
   "display_name": "Python 3",
   "language": "python",
   "name": "python3"
  },
  "language_info": {
   "codemirror_mode": {
    "name": "ipython",
    "version": 3
   },
   "file_extension": ".py",
   "mimetype": "text/x-python",
   "name": "python",
   "nbconvert_exporter": "python",
   "pygments_lexer": "ipython3",
   "version": "3.6.7"
  }
 },
 "nbformat": 4,
 "nbformat_minor": 1
}

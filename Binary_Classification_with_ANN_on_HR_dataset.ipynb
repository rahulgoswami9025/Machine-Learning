{
  "nbformat": 4,
  "nbformat_minor": 0,
  "metadata": {
    "colab": {
      "name": "Binary Classification with ANN on HR dataset.ipynb",
      "version": "0.3.2",
      "provenance": [],
      "collapsed_sections": [],
      "toc_visible": true
    },
    "kernelspec": {
      "name": "python3",
      "display_name": "Python 3"
    },
    "accelerator": "GPU"
  },
  "cells": [
    {
      "cell_type": "markdown",
      "metadata": {
        "id": "Rxwv-fpY0-Ok",
        "colab_type": "text"
      },
      "source": [
        "## Binary Classification on  the Human Resources Analytics dataset using ANN"
      ]
    },
    {
      "cell_type": "markdown",
      "metadata": {
        "id": "xnprohms09dq",
        "colab_type": "text"
      },
      "source": [
        "- **We’re trying to predict whether an employee will leave based on various features such as number of projects they worked on, time spent at the company,  last performance review, salary etc.**\n",
        "\n",
        "- **The dataset has around 15,000 rows and 9 columns.** \n",
        "\n",
        "- **The column we’re trying to predict is called “left”. It’s a binary column with 0/1 values. The label 1 means that the employee has left.**"
      ]
    },
    {
      "cell_type": "markdown",
      "metadata": {
        "id": "uMwWxFOV1ghR",
        "colab_type": "text"
      },
      "source": [
        "### 1 Importing relevant libraries and dataset"
      ]
    },
    {
      "cell_type": "code",
      "metadata": {
        "id": "ZqXUfBbIyQiM",
        "colab_type": "code",
        "colab": {}
      },
      "source": [
        "import pandas as pd\n",
        "import numpy as np\n",
        "import matplotlib.pyplot as plt\n",
        "import seaborn as sns\n",
        "sns.set()\n",
        "from sklearn.preprocessing import StandardScaler,LabelEncoder\n",
        "from sklearn.model_selection import train_test_split\n",
        "from sklearn.metrics import confusion_matrix, classification_report\n",
        "\n",
        "\n",
        "\n",
        "import keras\n",
        "from keras.models import Sequential\n",
        "from keras.layers import Dense, Dropout,BatchNormalization\n",
        "from keras.wrappers.scikit_learn import KerasClassifier"
      ],
      "execution_count": 0,
      "outputs": []
    },
    {
      "cell_type": "code",
      "metadata": {
        "id": "ntJTwVGb09Z7",
        "colab_type": "code",
        "outputId": "f2992a20-6c42-4672-cd8c-bc939bc86bca",
        "colab": {
          "base_uri": "https://localhost:8080/",
          "height": 216
        }
      },
      "source": [
        "# importing the dataset\n",
        "\n",
        "rawdf = pd.read_csv('HR_comma_sep.csv')\n",
        "rawdf.head()"
      ],
      "execution_count": 0,
      "outputs": [
        {
          "output_type": "execute_result",
          "data": {
            "text/html": [
              "<div>\n",
              "<style scoped>\n",
              "    .dataframe tbody tr th:only-of-type {\n",
              "        vertical-align: middle;\n",
              "    }\n",
              "\n",
              "    .dataframe tbody tr th {\n",
              "        vertical-align: top;\n",
              "    }\n",
              "\n",
              "    .dataframe thead th {\n",
              "        text-align: right;\n",
              "    }\n",
              "</style>\n",
              "<table border=\"1\" class=\"dataframe\">\n",
              "  <thead>\n",
              "    <tr style=\"text-align: right;\">\n",
              "      <th></th>\n",
              "      <th>satisfaction_level</th>\n",
              "      <th>last_evaluation</th>\n",
              "      <th>number_project</th>\n",
              "      <th>average_montly_hours</th>\n",
              "      <th>time_spend_company</th>\n",
              "      <th>Work_accident</th>\n",
              "      <th>left</th>\n",
              "      <th>promotion_last_5years</th>\n",
              "      <th>sales</th>\n",
              "      <th>salary</th>\n",
              "    </tr>\n",
              "  </thead>\n",
              "  <tbody>\n",
              "    <tr>\n",
              "      <th>0</th>\n",
              "      <td>0.38</td>\n",
              "      <td>0.53</td>\n",
              "      <td>2</td>\n",
              "      <td>157</td>\n",
              "      <td>3</td>\n",
              "      <td>0</td>\n",
              "      <td>1</td>\n",
              "      <td>0</td>\n",
              "      <td>sales</td>\n",
              "      <td>low</td>\n",
              "    </tr>\n",
              "    <tr>\n",
              "      <th>1</th>\n",
              "      <td>0.80</td>\n",
              "      <td>0.86</td>\n",
              "      <td>5</td>\n",
              "      <td>262</td>\n",
              "      <td>6</td>\n",
              "      <td>0</td>\n",
              "      <td>1</td>\n",
              "      <td>0</td>\n",
              "      <td>sales</td>\n",
              "      <td>medium</td>\n",
              "    </tr>\n",
              "    <tr>\n",
              "      <th>2</th>\n",
              "      <td>0.11</td>\n",
              "      <td>0.88</td>\n",
              "      <td>7</td>\n",
              "      <td>272</td>\n",
              "      <td>4</td>\n",
              "      <td>0</td>\n",
              "      <td>1</td>\n",
              "      <td>0</td>\n",
              "      <td>sales</td>\n",
              "      <td>medium</td>\n",
              "    </tr>\n",
              "    <tr>\n",
              "      <th>3</th>\n",
              "      <td>0.72</td>\n",
              "      <td>0.87</td>\n",
              "      <td>5</td>\n",
              "      <td>223</td>\n",
              "      <td>5</td>\n",
              "      <td>0</td>\n",
              "      <td>1</td>\n",
              "      <td>0</td>\n",
              "      <td>sales</td>\n",
              "      <td>low</td>\n",
              "    </tr>\n",
              "    <tr>\n",
              "      <th>4</th>\n",
              "      <td>0.37</td>\n",
              "      <td>0.52</td>\n",
              "      <td>2</td>\n",
              "      <td>159</td>\n",
              "      <td>3</td>\n",
              "      <td>0</td>\n",
              "      <td>1</td>\n",
              "      <td>0</td>\n",
              "      <td>sales</td>\n",
              "      <td>low</td>\n",
              "    </tr>\n",
              "  </tbody>\n",
              "</table>\n",
              "</div>"
            ],
            "text/plain": [
              "   satisfaction_level  last_evaluation  ...  sales  salary\n",
              "0                0.38             0.53  ...  sales     low\n",
              "1                0.80             0.86  ...  sales  medium\n",
              "2                0.11             0.88  ...  sales  medium\n",
              "3                0.72             0.87  ...  sales     low\n",
              "4                0.37             0.52  ...  sales     low\n",
              "\n",
              "[5 rows x 10 columns]"
            ]
          },
          "metadata": {
            "tags": []
          },
          "execution_count": 2
        }
      ]
    },
    {
      "cell_type": "markdown",
      "metadata": {
        "id": "j30GA6S_17ge",
        "colab_type": "text"
      },
      "source": [
        "#### 1.1 Data Exploration"
      ]
    },
    {
      "cell_type": "code",
      "metadata": {
        "id": "DXv_kavn1-8B",
        "colab_type": "code",
        "outputId": "7e8aecf6-f10d-4eba-a105-1184185e42a8",
        "colab": {
          "base_uri": "https://localhost:8080/",
          "height": 268
        }
      },
      "source": [
        "rawdf.info()"
      ],
      "execution_count": 0,
      "outputs": [
        {
          "output_type": "stream",
          "text": [
            "<class 'pandas.core.frame.DataFrame'>\n",
            "RangeIndex: 14999 entries, 0 to 14998\n",
            "Data columns (total 10 columns):\n",
            "satisfaction_level       14999 non-null float64\n",
            "last_evaluation          14999 non-null float64\n",
            "number_project           14999 non-null int64\n",
            "average_montly_hours     14999 non-null int64\n",
            "time_spend_company       14999 non-null int64\n",
            "Work_accident            14999 non-null int64\n",
            "left                     14999 non-null int64\n",
            "promotion_last_5years    14999 non-null int64\n",
            "sales                    14999 non-null object\n",
            "salary                   14999 non-null object\n",
            "dtypes: float64(2), int64(6), object(2)\n",
            "memory usage: 1.1+ MB\n"
          ],
          "name": "stdout"
        }
      ]
    },
    {
      "cell_type": "markdown",
      "metadata": {
        "id": "Wi43GZHc2CJ-",
        "colab_type": "text"
      },
      "source": [
        "**We can see that most of the features are numrical except the sales and salary columns which are categorical**"
      ]
    },
    {
      "cell_type": "code",
      "metadata": {
        "id": "11knyMSn2CHu",
        "colab_type": "code",
        "outputId": "f3b1bd8f-a306-48e1-8a72-b0f4c60cd7d3",
        "colab": {
          "base_uri": "https://localhost:8080/",
          "height": 84
        }
      },
      "source": [
        "rawdf.columns"
      ],
      "execution_count": 0,
      "outputs": [
        {
          "output_type": "execute_result",
          "data": {
            "text/plain": [
              "Index(['satisfaction_level', 'last_evaluation', 'number_project',\n",
              "       'average_montly_hours', 'time_spend_company', 'Work_accident', 'left',\n",
              "       'promotion_last_5years', 'sales', 'salary'],\n",
              "      dtype='object')"
            ]
          },
          "metadata": {
            "tags": []
          },
          "execution_count": 32
        }
      ]
    },
    {
      "cell_type": "code",
      "metadata": {
        "id": "nC3CLAhf2CFa",
        "colab_type": "code",
        "outputId": "aaf8ece1-6c59-4103-b1de-e2e7382c6c36",
        "colab": {
          "base_uri": "https://localhost:8080/",
          "height": 84
        }
      },
      "source": [
        "# Checking for the ratio of employess who have left and those that haven't left\n",
        "\n",
        "rawdf.groupby('left').size()"
      ],
      "execution_count": 0,
      "outputs": [
        {
          "output_type": "execute_result",
          "data": {
            "text/plain": [
              "left\n",
              "0    11428\n",
              "1     3571\n",
              "dtype: int64"
            ]
          },
          "metadata": {
            "tags": []
          },
          "execution_count": 33
        }
      ]
    },
    {
      "cell_type": "code",
      "metadata": {
        "id": "D4uMPM2z2CC8",
        "colab_type": "code",
        "outputId": "c8fcf04e-5918-4ec3-9500-cc3e60ce2620",
        "colab": {
          "base_uri": "https://localhost:8080/",
          "height": 84
        }
      },
      "source": [
        "print('The percentage of employess who have left to no of employees who havent \\n',(rawdf['left'].value_counts()*100)/(rawdf['left'].count()))"
      ],
      "execution_count": 0,
      "outputs": [
        {
          "output_type": "stream",
          "text": [
            "The percentage of employess who have left to no of employees who havent \n",
            " 0    76.191746\n",
            "1    23.808254\n",
            "Name: left, dtype: float64\n"
          ],
          "name": "stdout"
        }
      ]
    },
    {
      "cell_type": "code",
      "metadata": {
        "id": "SoG1UZZW2CAr",
        "colab_type": "code",
        "outputId": "c460ddce-1800-41b3-8a22-6050837e8891",
        "colab": {
          "base_uri": "https://localhost:8080/",
          "height": 201
        }
      },
      "source": [
        "# checking for the presence of missing values\n",
        "\n",
        "rawdf.isnull().sum()"
      ],
      "execution_count": 0,
      "outputs": [
        {
          "output_type": "execute_result",
          "data": {
            "text/plain": [
              "satisfaction_level       0\n",
              "last_evaluation          0\n",
              "number_project           0\n",
              "average_montly_hours     0\n",
              "time_spend_company       0\n",
              "Work_accident            0\n",
              "left                     0\n",
              "promotion_last_5years    0\n",
              "sales                    0\n",
              "salary                   0\n",
              "dtype: int64"
            ]
          },
          "metadata": {
            "tags": []
          },
          "execution_count": 35
        }
      ]
    },
    {
      "cell_type": "code",
      "metadata": {
        "id": "HoqGw_F72B-O",
        "colab_type": "code",
        "outputId": "555b1804-c9da-4c0f-d8ee-e0144c50a2c9",
        "colab": {
          "base_uri": "https://localhost:8080/",
          "height": 606
        }
      },
      "source": [
        "# Checking the correlation between the features \n",
        "\n",
        "\n",
        "plt.figure(figsize=(10, 8))\n",
        "sns.heatmap(rawdf.corr(), annot=True, square=True);"
      ],
      "execution_count": 0,
      "outputs": [
        {
          "output_type": "display_data",
          "data": {
            "image/png": "[encoded data removed]",
            "text/plain": [
              "<Figure size 720x576 with 2 Axes>"
            ]
          },
          "metadata": {
            "tags": []
          }
        }
      ]
    },
    {
      "cell_type": "markdown",
      "metadata": {
        "id": "lO3HdBSM5ub2",
        "colab_type": "text"
      },
      "source": [
        "**Observations :**\n",
        "\n",
        "- **We see that “average_monthly_hours” is positively correlated with “number_project”, which again makes sense. i.e the more projects a person is involved with, the more hours of work they need to put in.**"
      ]
    },
    {
      "cell_type": "code",
      "metadata": {
        "id": "-NH5HDSu41M1",
        "colab_type": "code",
        "outputId": "0b251cbf-0ec2-4a65-f307-db993a7abf18",
        "colab": {
          "base_uri": "https://localhost:8080/",
          "height": 328
        }
      },
      "source": [
        "# checking the correlation of the features with the labels (the column named “left”)\n",
        "\n",
        "plt.figure(figsize=(5, 5))\n",
        "sns.heatmap(rawdf.corr()[['left']], annot=True);"
      ],
      "execution_count": 0,
      "outputs": [
        {
          "output_type": "display_data",
          "data": {
            "image/png": "[encoded data removed]",
            "text/plain": [
              "<Figure size 360x360 with 2 Axes>"
            ]
          },
          "metadata": {
            "tags": []
          }
        }
      ]
    },
    {
      "cell_type": "markdown",
      "metadata": {
        "id": "7Q-6cE5H2B71",
        "colab_type": "text"
      },
      "source": [
        "**Observation:**\n",
        "\n",
        "- **In this plot, positive values represent correlation and negative values represent inverse correlation with the label.**\n",
        "- **Only one feature has a strong signal, which is the “satisfaction_level”, inversely correlated with whether the employee has left. This is normal.**"
      ]
    },
    {
      "cell_type": "code",
      "metadata": {
        "id": "VTXBm7ZP2B5X",
        "colab_type": "code",
        "outputId": "28988b37-98b9-4a39-e38a-c102779865b6",
        "colab": {
          "base_uri": "https://localhost:8080/",
          "height": 581
        }
      },
      "source": [
        "# plotting histograms of the features o understand their distributions \n",
        "\n",
        "\n",
        "rawdf.hist(figsize=(10, 8))\n",
        "plt.tight_layout()"
      ],
      "execution_count": 0,
      "outputs": [
        {
          "output_type": "display_data",
          "data": {
            "image/png": "[encoded data removed]",
            "text/plain": [
              "<Figure size 720x576 with 9 Axes>"
            ]
          },
          "metadata": {
            "tags": []
          }
        }
      ]
    },
    {
      "cell_type": "markdown",
      "metadata": {
        "id": "wtgkTQ0c2B29",
        "colab_type": "text"
      },
      "source": [
        "**Observations :**\n",
        "\n",
        "- **We need to standardize 3 of the features: average_monthly_hours, number_project, and time_spend_company.**\n",
        "- All other features are within [0, 1]"
      ]
    },
    {
      "cell_type": "markdown",
      "metadata": {
        "id": "SYi28R4j6q5Z",
        "colab_type": "text"
      },
      "source": [
        "### 2 Data Preparation"
      ]
    },
    {
      "cell_type": "code",
      "metadata": {
        "id": "K6-MMTMz2B08",
        "colab_type": "code",
        "outputId": "0f027d79-27c9-4b95-824f-3615721b08b5",
        "colab": {
          "base_uri": "https://localhost:8080/",
          "height": 216
        }
      },
      "source": [
        "# Standardizing the dataset \n",
        "\n",
        "df = rawdf.copy()\n",
        "\n",
        "sc = StandardScaler()\n",
        "scale_features = ['average_montly_hours', 'number_project', 'time_spend_company']\n",
        "df[scale_features] = sc.fit_transform(df[scale_features])\n",
        "\n",
        "categorical_features = ['sales', 'salary']\n",
        "df_cat = pd.get_dummies(df[categorical_features])\n",
        "df = df.drop(categorical_features, axis=1)\n",
        "df = pd.concat([df, df_cat], axis=1)\n",
        "df.head()"
      ],
      "execution_count": 0,
      "outputs": [
        {
          "output_type": "execute_result",
          "data": {
            "text/html": [
              "<div>\n",
              "<style scoped>\n",
              "    .dataframe tbody tr th:only-of-type {\n",
              "        vertical-align: middle;\n",
              "    }\n",
              "\n",
              "    .dataframe tbody tr th {\n",
              "        vertical-align: top;\n",
              "    }\n",
              "\n",
              "    .dataframe thead th {\n",
              "        text-align: right;\n",
              "    }\n",
              "</style>\n",
              "<table border=\"1\" class=\"dataframe\">\n",
              "  <thead>\n",
              "    <tr style=\"text-align: right;\">\n",
              "      <th></th>\n",
              "      <th>satisfaction_level</th>\n",
              "      <th>last_evaluation</th>\n",
              "      <th>number_project</th>\n",
              "      <th>average_montly_hours</th>\n",
              "      <th>time_spend_company</th>\n",
              "      <th>Work_accident</th>\n",
              "      <th>left</th>\n",
              "      <th>promotion_last_5years</th>\n",
              "      <th>sales_IT</th>\n",
              "      <th>sales_RandD</th>\n",
              "      <th>sales_accounting</th>\n",
              "      <th>sales_hr</th>\n",
              "      <th>sales_management</th>\n",
              "      <th>sales_marketing</th>\n",
              "      <th>sales_product_mng</th>\n",
              "      <th>sales_sales</th>\n",
              "      <th>sales_support</th>\n",
              "      <th>sales_technical</th>\n",
              "      <th>salary_high</th>\n",
              "      <th>salary_low</th>\n",
              "      <th>salary_medium</th>\n",
              "    </tr>\n",
              "  </thead>\n",
              "  <tbody>\n",
              "    <tr>\n",
              "      <th>0</th>\n",
              "      <td>0.38</td>\n",
              "      <td>0.53</td>\n",
              "      <td>-1.462863</td>\n",
              "      <td>-0.882040</td>\n",
              "      <td>-0.341235</td>\n",
              "      <td>0</td>\n",
              "      <td>1</td>\n",
              "      <td>0</td>\n",
              "      <td>0</td>\n",
              "      <td>0</td>\n",
              "      <td>0</td>\n",
              "      <td>0</td>\n",
              "      <td>0</td>\n",
              "      <td>0</td>\n",
              "      <td>0</td>\n",
              "      <td>1</td>\n",
              "      <td>0</td>\n",
              "      <td>0</td>\n",
              "      <td>0</td>\n",
              "      <td>1</td>\n",
              "      <td>0</td>\n",
              "    </tr>\n",
              "    <tr>\n",
              "      <th>1</th>\n",
              "      <td>0.80</td>\n",
              "      <td>0.86</td>\n",
              "      <td>0.971113</td>\n",
              "      <td>1.220423</td>\n",
              "      <td>1.713436</td>\n",
              "      <td>0</td>\n",
              "      <td>1</td>\n",
              "      <td>0</td>\n",
              "      <td>0</td>\n",
              "      <td>0</td>\n",
              "      <td>0</td>\n",
              "      <td>0</td>\n",
              "      <td>0</td>\n",
              "      <td>0</td>\n",
              "      <td>0</td>\n",
              "      <td>1</td>\n",
              "      <td>0</td>\n",
              "      <td>0</td>\n",
              "      <td>0</td>\n",
              "      <td>0</td>\n",
              "      <td>1</td>\n",
              "    </tr>\n",
              "    <tr>\n",
              "      <th>2</th>\n",
              "      <td>0.11</td>\n",
              "      <td>0.88</td>\n",
              "      <td>2.593763</td>\n",
              "      <td>1.420657</td>\n",
              "      <td>0.343655</td>\n",
              "      <td>0</td>\n",
              "      <td>1</td>\n",
              "      <td>0</td>\n",
              "      <td>0</td>\n",
              "      <td>0</td>\n",
              "      <td>0</td>\n",
              "      <td>0</td>\n",
              "      <td>0</td>\n",
              "      <td>0</td>\n",
              "      <td>0</td>\n",
              "      <td>1</td>\n",
              "      <td>0</td>\n",
              "      <td>0</td>\n",
              "      <td>0</td>\n",
              "      <td>0</td>\n",
              "      <td>1</td>\n",
              "    </tr>\n",
              "    <tr>\n",
              "      <th>3</th>\n",
              "      <td>0.72</td>\n",
              "      <td>0.87</td>\n",
              "      <td>0.971113</td>\n",
              "      <td>0.439508</td>\n",
              "      <td>1.028546</td>\n",
              "      <td>0</td>\n",
              "      <td>1</td>\n",
              "      <td>0</td>\n",
              "      <td>0</td>\n",
              "      <td>0</td>\n",
              "      <td>0</td>\n",
              "      <td>0</td>\n",
              "      <td>0</td>\n",
              "      <td>0</td>\n",
              "      <td>0</td>\n",
              "      <td>1</td>\n",
              "      <td>0</td>\n",
              "      <td>0</td>\n",
              "      <td>0</td>\n",
              "      <td>1</td>\n",
              "      <td>0</td>\n",
              "    </tr>\n",
              "    <tr>\n",
              "      <th>4</th>\n",
              "      <td>0.37</td>\n",
              "      <td>0.52</td>\n",
              "      <td>-1.462863</td>\n",
              "      <td>-0.841993</td>\n",
              "      <td>-0.341235</td>\n",
              "      <td>0</td>\n",
              "      <td>1</td>\n",
              "      <td>0</td>\n",
              "      <td>0</td>\n",
              "      <td>0</td>\n",
              "      <td>0</td>\n",
              "      <td>0</td>\n",
              "      <td>0</td>\n",
              "      <td>0</td>\n",
              "      <td>0</td>\n",
              "      <td>1</td>\n",
              "      <td>0</td>\n",
              "      <td>0</td>\n",
              "      <td>0</td>\n",
              "      <td>1</td>\n",
              "      <td>0</td>\n",
              "    </tr>\n",
              "  </tbody>\n",
              "</table>\n",
              "</div>"
            ],
            "text/plain": [
              "   satisfaction_level  last_evaluation  ...  salary_low  salary_medium\n",
              "0                0.38             0.53  ...           1              0\n",
              "1                0.80             0.86  ...           0              1\n",
              "2                0.11             0.88  ...           0              1\n",
              "3                0.72             0.87  ...           1              0\n",
              "4                0.37             0.52  ...           1              0\n",
              "\n",
              "[5 rows x 21 columns]"
            ]
          },
          "metadata": {
            "tags": []
          },
          "execution_count": 3
        }
      ]
    },
    {
      "cell_type": "code",
      "metadata": {
        "id": "_y3MFPAm2Byq",
        "colab_type": "code",
        "outputId": "856750af-ad89-4748-cb0f-62ad1cde39b3",
        "colab": {
          "base_uri": "https://localhost:8080/",
          "height": 196
        }
      },
      "source": [
        "\n",
        "df.filter(regex=(\"salary.*\")).head()"
      ],
      "execution_count": 0,
      "outputs": [
        {
          "output_type": "execute_result",
          "data": {
            "text/html": [
              "<div>\n",
              "<style scoped>\n",
              "    .dataframe tbody tr th:only-of-type {\n",
              "        vertical-align: middle;\n",
              "    }\n",
              "\n",
              "    .dataframe tbody tr th {\n",
              "        vertical-align: top;\n",
              "    }\n",
              "\n",
              "    .dataframe thead th {\n",
              "        text-align: right;\n",
              "    }\n",
              "</style>\n",
              "<table border=\"1\" class=\"dataframe\">\n",
              "  <thead>\n",
              "    <tr style=\"text-align: right;\">\n",
              "      <th></th>\n",
              "      <th>salary_high</th>\n",
              "      <th>salary_low</th>\n",
              "      <th>salary_medium</th>\n",
              "    </tr>\n",
              "  </thead>\n",
              "  <tbody>\n",
              "    <tr>\n",
              "      <th>0</th>\n",
              "      <td>0</td>\n",
              "      <td>1</td>\n",
              "      <td>0</td>\n",
              "    </tr>\n",
              "    <tr>\n",
              "      <th>1</th>\n",
              "      <td>0</td>\n",
              "      <td>0</td>\n",
              "      <td>1</td>\n",
              "    </tr>\n",
              "    <tr>\n",
              "      <th>2</th>\n",
              "      <td>0</td>\n",
              "      <td>0</td>\n",
              "      <td>1</td>\n",
              "    </tr>\n",
              "    <tr>\n",
              "      <th>3</th>\n",
              "      <td>0</td>\n",
              "      <td>1</td>\n",
              "      <td>0</td>\n",
              "    </tr>\n",
              "    <tr>\n",
              "      <th>4</th>\n",
              "      <td>0</td>\n",
              "      <td>1</td>\n",
              "      <td>0</td>\n",
              "    </tr>\n",
              "  </tbody>\n",
              "</table>\n",
              "</div>"
            ],
            "text/plain": [
              "   salary_high  salary_low  salary_medium\n",
              "0            0           1              0\n",
              "1            0           0              1\n",
              "2            0           0              1\n",
              "3            0           1              0\n",
              "4            0           1              0"
            ]
          },
          "metadata": {
            "tags": []
          },
          "execution_count": 10
        }
      ]
    },
    {
      "cell_type": "markdown",
      "metadata": {
        "id": "VuyNG_1D9M6u",
        "colab_type": "text"
      },
      "source": [
        "### 3 Splitting the dataset "
      ]
    },
    {
      "cell_type": "code",
      "metadata": {
        "id": "9ORq6uTM2BwI",
        "colab_type": "code",
        "colab": {}
      },
      "source": [
        "X = df.drop('left', axis = 1).values\n",
        "y = df['left'].values"
      ],
      "execution_count": 0,
      "outputs": []
    },
    {
      "cell_type": "code",
      "metadata": {
        "id": "8EMaBQsn2Btj",
        "colab_type": "code",
        "outputId": "13843843-494d-4963-d005-e17ab3608f55",
        "colab": {
          "base_uri": "https://localhost:8080/",
          "height": 33
        }
      },
      "source": [
        "X_train, X_test, y_train, y_test = train_test_split(X, y, test_size=0.33, random_state=42)\n",
        "print(X_test.shape, y_train.shape, X_test.shape, y_test.shape)"
      ],
      "execution_count": 0,
      "outputs": [
        {
          "output_type": "stream",
          "text": [
            "(4950, 20) (10049,) (4950, 20) (4950,)\n"
          ],
          "name": "stdout"
        }
      ]
    },
    {
      "cell_type": "markdown",
      "metadata": {
        "id": "pQu05lOS-Jqy",
        "colab_type": "text"
      },
      "source": [
        "### 4 Building the ANN"
      ]
    },
    {
      "cell_type": "markdown",
      "metadata": {
        "id": "jSJjTezs_l_t",
        "colab_type": "text"
      },
      "source": [
        "#### 4.1 Baseline Logistic Regression model"
      ]
    },
    {
      "cell_type": "code",
      "metadata": {
        "id": "7A6IfyHU2BrS",
        "colab_type": "code",
        "outputId": "1e5ae114-df06-40f2-b738-d15b3aa25801",
        "colab": {
          "base_uri": "https://localhost:8080/",
          "height": 1107
        }
      },
      "source": [
        "model = Sequential()\n",
        "model.add(Dense(units = 1, kernel_initializer = 'uniform', activation = 'sigmoid'))\n",
        "model.compile(optimizer = 'adam', loss = 'binary_crossentropy', metrics = ['accuracy'])\n",
        "history = model.fit(X_train, y_train, epochs = 30, validation_data = (X_test, y_test))"
      ],
      "execution_count": 0,
      "outputs": [
        {
          "output_type": "stream",
          "text": [
            "WARNING:tensorflow:From /usr/local/lib/python3.6/dist-packages/tensorflow/python/ops/math_ops.py:3066: to_int32 (from tensorflow.python.ops.math_ops) is deprecated and will be removed in a future version.\n",
            "Instructions for updating:\n",
            "Use tf.cast instead.\n",
            "Train on 10049 samples, validate on 4950 samples\n",
            "Epoch 1/30\n",
            "10049/10049 [==============================] - 2s 222us/step - loss: 0.5946 - acc: 0.7378 - val_loss: 0.5368 - val_acc: 0.7602\n",
            "Epoch 2/30\n",
            "10049/10049 [==============================] - 1s 129us/step - loss: 0.5183 - acc: 0.7614 - val_loss: 0.5117 - val_acc: 0.7592\n",
            "Epoch 3/30\n",
            "10049/10049 [==============================] - 1s 128us/step - loss: 0.5026 - acc: 0.7595 - val_loss: 0.5018 - val_acc: 0.7562\n",
            "Epoch 4/30\n",
            "10049/10049 [==============================] - 1s 128us/step - loss: 0.4932 - acc: 0.7580 - val_loss: 0.4943 - val_acc: 0.7509\n",
            "Epoch 5/30\n",
            "10049/10049 [==============================] - 1s 128us/step - loss: 0.4858 - acc: 0.7537 - val_loss: 0.4878 - val_acc: 0.7509\n",
            "Epoch 6/30\n",
            "10049/10049 [==============================] - 1s 131us/step - loss: 0.4794 - acc: 0.7535 - val_loss: 0.4824 - val_acc: 0.7501\n",
            "Epoch 7/30\n",
            "10049/10049 [==============================] - 1s 128us/step - loss: 0.4736 - acc: 0.7529 - val_loss: 0.4778 - val_acc: 0.7521\n",
            "Epoch 8/30\n",
            "10049/10049 [==============================] - 1s 127us/step - loss: 0.4686 - acc: 0.7557 - val_loss: 0.4736 - val_acc: 0.7547\n",
            "Epoch 9/30\n",
            "10049/10049 [==============================] - 1s 127us/step - loss: 0.4641 - acc: 0.7657 - val_loss: 0.4698 - val_acc: 0.7580\n",
            "Epoch 10/30\n",
            "10049/10049 [==============================] - 1s 127us/step - loss: 0.4601 - acc: 0.7648 - val_loss: 0.4664 - val_acc: 0.7638\n",
            "Epoch 11/30\n",
            "10049/10049 [==============================] - 1s 129us/step - loss: 0.4564 - acc: 0.7704 - val_loss: 0.4632 - val_acc: 0.7648\n",
            "Epoch 12/30\n",
            "10049/10049 [==============================] - 1s 129us/step - loss: 0.4531 - acc: 0.7715 - val_loss: 0.4604 - val_acc: 0.7644\n",
            "Epoch 13/30\n",
            "10049/10049 [==============================] - 1s 128us/step - loss: 0.4501 - acc: 0.7702 - val_loss: 0.4578 - val_acc: 0.7638\n",
            "Epoch 14/30\n",
            "10049/10049 [==============================] - 1s 129us/step - loss: 0.4474 - acc: 0.7710 - val_loss: 0.4559 - val_acc: 0.7630\n",
            "Epoch 15/30\n",
            "10049/10049 [==============================] - 1s 133us/step - loss: 0.4451 - acc: 0.7721 - val_loss: 0.4540 - val_acc: 0.7618\n",
            "Epoch 16/30\n",
            "10049/10049 [==============================] - 1s 129us/step - loss: 0.4430 - acc: 0.7714 - val_loss: 0.4521 - val_acc: 0.7620\n",
            "Epoch 17/30\n",
            "10049/10049 [==============================] - 1s 130us/step - loss: 0.4411 - acc: 0.7719 - val_loss: 0.4507 - val_acc: 0.7634\n",
            "Epoch 18/30\n",
            "10049/10049 [==============================] - 1s 130us/step - loss: 0.4394 - acc: 0.7715 - val_loss: 0.4494 - val_acc: 0.7655\n",
            "Epoch 19/30\n",
            "10049/10049 [==============================] - 1s 131us/step - loss: 0.4379 - acc: 0.7735 - val_loss: 0.4481 - val_acc: 0.7661\n",
            "Epoch 20/30\n",
            "10049/10049 [==============================] - 1s 130us/step - loss: 0.4365 - acc: 0.7759 - val_loss: 0.4470 - val_acc: 0.7651\n",
            "Epoch 21/30\n",
            "10049/10049 [==============================] - 1s 131us/step - loss: 0.4353 - acc: 0.7753 - val_loss: 0.4459 - val_acc: 0.7651\n",
            "Epoch 22/30\n",
            "10049/10049 [==============================] - 1s 134us/step - loss: 0.4342 - acc: 0.7757 - val_loss: 0.4452 - val_acc: 0.7642\n",
            "Epoch 23/30\n",
            "10049/10049 [==============================] - 1s 133us/step - loss: 0.4332 - acc: 0.7766 - val_loss: 0.4445 - val_acc: 0.7663\n",
            "Epoch 24/30\n",
            "10049/10049 [==============================] - 1s 128us/step - loss: 0.4323 - acc: 0.7772 - val_loss: 0.4440 - val_acc: 0.7665\n",
            "Epoch 25/30\n",
            "10049/10049 [==============================] - 1s 129us/step - loss: 0.4315 - acc: 0.7766 - val_loss: 0.4432 - val_acc: 0.7673\n",
            "Epoch 26/30\n",
            "10049/10049 [==============================] - 1s 129us/step - loss: 0.4307 - acc: 0.7775 - val_loss: 0.4426 - val_acc: 0.7669\n",
            "Epoch 27/30\n",
            "10049/10049 [==============================] - 1s 126us/step - loss: 0.4301 - acc: 0.7764 - val_loss: 0.4421 - val_acc: 0.7673\n",
            "Epoch 28/30\n",
            "10049/10049 [==============================] - 1s 126us/step - loss: 0.4295 - acc: 0.7770 - val_loss: 0.4417 - val_acc: 0.7665\n",
            "Epoch 29/30\n",
            "10049/10049 [==============================] - 1s 129us/step - loss: 0.4289 - acc: 0.7767 - val_loss: 0.4413 - val_acc: 0.7665\n",
            "Epoch 30/30\n",
            "10049/10049 [==============================] - 1s 127us/step - loss: 0.4285 - acc: 0.7771 - val_loss: 0.4410 - val_acc: 0.7651\n"
          ],
          "name": "stdout"
        }
      ]
    },
    {
      "cell_type": "code",
      "metadata": {
        "id": "E0IvNpJqBEjh",
        "colab_type": "code",
        "outputId": "5936592f-535c-4c63-fb99-df0d95e4c47c",
        "colab": {
          "base_uri": "https://localhost:8080/",
          "height": 33
        }
      },
      "source": [
        "# listing all the data\n",
        "print(history.history.keys())"
      ],
      "execution_count": 0,
      "outputs": [
        {
          "output_type": "stream",
          "text": [
            "dict_keys(['val_loss', 'val_acc', 'loss', 'acc'])\n"
          ],
          "name": "stdout"
        }
      ]
    },
    {
      "cell_type": "markdown",
      "metadata": {
        "id": "5ne0wu-nOj3v",
        "colab_type": "text"
      },
      "source": [
        "#### 4.2 Plotting the loss and accuracy history"
      ]
    },
    {
      "cell_type": "code",
      "metadata": {
        "id": "ay10HVQl2BkI",
        "colab_type": "code",
        "outputId": "ed97c37c-92c0-4019-f185-55e51882b6d9",
        "colab": {
          "base_uri": "https://localhost:8080/",
          "height": 585
        }
      },
      "source": [
        "# Get training and test acc histories\n",
        "\n",
        "training_acc = history.history['acc']\n",
        "test_acc = history.history['val_acc']\n",
        "\n",
        "# Get training and test loss histories\n",
        "\n",
        "training_loss = history.history['loss']\n",
        "test_loss = history.history['val_loss']\n",
        "\n",
        "\n",
        "# summarize history for accuracy\n",
        "\n",
        "plt.plot(history.history['acc'], 'r--')\n",
        "plt.plot(history.history['val_acc'])   # for validation dataset\n",
        "plt.title('model_accuracy')\n",
        "plt.xlabel('epoch')\n",
        "plt.ylabel('accuracy')\n",
        "plt.legend(['train', 'test'], loc = 'upper left')\n",
        "plt.show()\n",
        "\n",
        "# summarize history for loss\n",
        "\n",
        "plt.plot(history.history['loss'], 'r--')\n",
        "plt.plot(history.history['val_loss'])  # for validation dataset\n",
        "plt.title('model_loss')\n",
        "plt.xlabel('epoch')\n",
        "plt.ylabel('loss')\n",
        "plt.legend(['train', 'test'], loc = 'upper left')\n",
        "plt.show()"
      ],
      "execution_count": 0,
      "outputs": [
        {
          "output_type": "display_data",
          "data": {
            "image/png": "[encoded data removed]",
            "text/plain": [
              "<Figure size 432x288 with 1 Axes>"
            ]
          },
          "metadata": {
            "tags": []
          }
        },
        {
          "output_type": "display_data",
          "data": {
            "image/png": "[encoded data removed]",
            "text/plain": [
              "<Figure size 432x288 with 1 Axes>"
            ]
          },
          "metadata": {
            "tags": []
          }
        }
      ]
    },
    {
      "cell_type": "markdown",
      "metadata": {
        "id": "nG-jB6MWO-4x",
        "colab_type": "text"
      },
      "source": [
        "#### 4.3 Plotting the confusion matrix"
      ]
    },
    {
      "cell_type": "code",
      "metadata": {
        "id": "dm3hXQXk2Bht",
        "colab_type": "code",
        "outputId": "2a1d5376-cd5a-476a-ddab-907cf3e159c3",
        "colab": {
          "base_uri": "https://localhost:8080/",
          "height": 50
        }
      },
      "source": [
        "# Plotting the confusion matrix \n",
        "\n",
        "y_pred = model.predict_classes(X_test)\n",
        "cm = confusion_matrix(y_test, y_pred)\n",
        "print(cm)"
      ],
      "execution_count": 0,
      "outputs": [
        {
          "output_type": "stream",
          "text": [
            "[[3522  247]\n",
            " [ 916  265]]\n"
          ],
          "name": "stdout"
        }
      ]
    },
    {
      "cell_type": "code",
      "metadata": {
        "id": "ZOpBIQzK2BdV",
        "colab_type": "code",
        "colab": {}
      },
      "source": [
        "def plot_confusion_matrix(model, X, y):\n",
        "    y_pred = model.predict_classes(X, verbose=0)\n",
        "    plt.figure(figsize=(8, 6))\n",
        "    sns.heatmap(pd.DataFrame(confusion_matrix(y, y_pred)), annot=True, fmt='d', cmap='YlGnBu', alpha=0.8, vmin=0)"
      ],
      "execution_count": 0,
      "outputs": []
    },
    {
      "cell_type": "code",
      "metadata": {
        "id": "8_qEtM-C2BbB",
        "colab_type": "code",
        "outputId": "96c47302-308b-44b8-fcaa-fc03e175b978",
        "colab": {
          "base_uri": "https://localhost:8080/",
          "height": 533
        }
      },
      "source": [
        "print(classification_report(y_test,y_pred))\n",
        "\n",
        "plot_confusion_matrix(model, X_test,y_test)"
      ],
      "execution_count": 0,
      "outputs": [
        {
          "output_type": "stream",
          "text": [
            "              precision    recall  f1-score   support\n",
            "\n",
            "           0       0.79      0.93      0.86      3769\n",
            "           1       0.52      0.22      0.31      1181\n",
            "\n",
            "    accuracy                           0.77      4950\n",
            "   macro avg       0.66      0.58      0.59      4950\n",
            "weighted avg       0.73      0.77      0.73      4950\n",
            "\n"
          ],
          "name": "stdout"
        },
        {
          "output_type": "display_data",
          "data": {
            "image/png": "[encoded data removed]",
            "text/plain": [
              "<Figure size 576x432 with 2 Axes>"
            ]
          },
          "metadata": {
            "tags": []
          }
        }
      ]
    },
    {
      "cell_type": "markdown",
      "metadata": {
        "id": "iJACDcYUQHM7",
        "colab_type": "text"
      },
      "source": [
        "### 5 Building the baseline ANN"
      ]
    },
    {
      "cell_type": "code",
      "metadata": {
        "id": "ugG-p7Wx2BYs",
        "colab_type": "code",
        "colab": {}
      },
      "source": [
        "def create_model():\n",
        "    model = Sequential()\n",
        "    model.add(Dense(units = 64, kernel_initializer = 'uniform', activation = 'relu'))"
      ],
      "execution_count": 0,
      "outputs": []
    },
    {
      "cell_type": "code",
      "metadata": {
        "id": "cj6S7Ww-2BWQ",
        "colab_type": "code",
        "colab": {}
      },
      "source": [
        ""
      ],
      "execution_count": 0,
      "outputs": []
    },
    {
      "cell_type": "code",
      "metadata": {
        "id": "-cenroit2BUH",
        "colab_type": "code",
        "colab": {}
      },
      "source": [
        ""
      ],
      "execution_count": 0,
      "outputs": []
    },
    {
      "cell_type": "code",
      "metadata": {
        "id": "wx30nySc2BSD",
        "colab_type": "code",
        "colab": {}
      },
      "source": [
        ""
      ],
      "execution_count": 0,
      "outputs": []
    },
    {
      "cell_type": "code",
      "metadata": {
        "id": "rSeRi32c2BPp",
        "colab_type": "code",
        "colab": {}
      },
      "source": [
        ""
      ],
      "execution_count": 0,
      "outputs": []
    },
    {
      "cell_type": "code",
      "metadata": {
        "id": "1piZLelD2BNO",
        "colab_type": "code",
        "colab": {}
      },
      "source": [
        ""
      ],
      "execution_count": 0,
      "outputs": []
    },
    {
      "cell_type": "code",
      "metadata": {
        "id": "Mz1dlSh22BK2",
        "colab_type": "code",
        "colab": {}
      },
      "source": [
        ""
      ],
      "execution_count": 0,
      "outputs": []
    },
    {
      "cell_type": "code",
      "metadata": {
        "id": "XGg5qXoc2BIg",
        "colab_type": "code",
        "colab": {}
      },
      "source": [
        ""
      ],
      "execution_count": 0,
      "outputs": []
    },
    {
      "cell_type": "code",
      "metadata": {
        "id": "jPJEhFd72BGR",
        "colab_type": "code",
        "colab": {}
      },
      "source": [
        ""
      ],
      "execution_count": 0,
      "outputs": []
    },
    {
      "cell_type": "code",
      "metadata": {
        "id": "SWd327Vj2BEI",
        "colab_type": "code",
        "colab": {}
      },
      "source": [
        ""
      ],
      "execution_count": 0,
      "outputs": []
    },
    {
      "cell_type": "code",
      "metadata": {
        "id": "w9dwElk62BCD",
        "colab_type": "code",
        "colab": {}
      },
      "source": [
        ""
      ],
      "execution_count": 0,
      "outputs": []
    },
    {
      "cell_type": "code",
      "metadata": {
        "id": "_IjrOuNo2A_6",
        "colab_type": "code",
        "colab": {}
      },
      "source": [
        ""
      ],
      "execution_count": 0,
      "outputs": []
    },
    {
      "cell_type": "code",
      "metadata": {
        "id": "BdPbw2Kg2A9v",
        "colab_type": "code",
        "colab": {}
      },
      "source": [
        ""
      ],
      "execution_count": 0,
      "outputs": []
    },
    {
      "cell_type": "code",
      "metadata": {
        "id": "7jeNwlIv2A7m",
        "colab_type": "code",
        "colab": {}
      },
      "source": [
        ""
      ],
      "execution_count": 0,
      "outputs": []
    },
    {
      "cell_type": "code",
      "metadata": {
        "id": "FeVeq7Iy2A5X",
        "colab_type": "code",
        "colab": {}
      },
      "source": [
        ""
      ],
      "execution_count": 0,
      "outputs": []
    },
    {
      "cell_type": "code",
      "metadata": {
        "id": "-sKCQ8TG2A3H",
        "colab_type": "code",
        "colab": {}
      },
      "source": [
        ""
      ],
      "execution_count": 0,
      "outputs": []
    },
    {
      "cell_type": "code",
      "metadata": {
        "id": "dGogscm61_2b",
        "colab_type": "code",
        "colab": {}
      },
      "source": [
        ""
      ],
      "execution_count": 0,
      "outputs": []
    }
  ]
}